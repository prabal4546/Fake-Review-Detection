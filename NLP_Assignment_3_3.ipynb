{
  "cells": [
    {
      "cell_type": "markdown",
      "metadata": {
        "id": "view-in-github",
        "colab_type": "text"
      },
      "source": [
        "<a href=\"https://colab.research.google.com/github/prabal4546/Fake-Review-Detection/blob/main/NLP_Assignment_3_3.ipynb\" target=\"_parent\"><img src=\"https://colab.research.google.com/assets/colab-badge.svg\" alt=\"Open In Colab\"/></a>"
      ]
    },
    {
      "cell_type": "markdown",
      "metadata": {
        "id": "ReLe9JasI6ZR"
      },
      "source": [
        "# Import libraries"
      ]
    },
    {
      "cell_type": "code",
      "execution_count": null,
      "metadata": {
        "id": "Q3bAr_kLtHM7"
      },
      "outputs": [],
      "source": [
        "import pandas as pd\n",
        "from IPython.display import display\n",
        "import numpy as np\n",
        "import os\n",
        "from imblearn.over_sampling import SMOTE\n",
        "from sklearn.model_selection import train_test_split\n",
        "from sklearn.ensemble import RandomForestClassifier\n",
        "from sklearn.model_selection import cross_val_score, GridSearchCV, StratifiedKFold\n",
        "from sklearn.metrics import accuracy_score, f1_score, confusion_matrix\n",
        "from spellchecker import SpellChecker\n",
        "import spacy\n",
        "# from google.colab import drive\n",
        "import pandas as pd\n",
        "from IPython.display import display\n"
      ]
    },
    {
      "cell_type": "code",
      "execution_count": null,
      "metadata": {
        "id": "1CeDgP77Gfag"
      },
      "outputs": [],
      "source": [
        "# drive.mount('/content/drive')\n",
        "# df = pd.read_excel('/content/drive/MyDrive/Dataset/restaurant_reviews-v2-1.xlsx')"
      ]
    },
    {
      "cell_type": "markdown",
      "metadata": {
        "id": "7mdgQxTHI6ZU"
      },
      "source": [
        "### Loading dataset (Please read comments to proceed)"
      ]
    },
    {
      "cell_type": "code",
      "execution_count": null,
      "metadata": {
        "id": "RA1NS-ZaI6ZV"
      },
      "outputs": [],
      "source": [
        "df = df = pd.read_excel('') # copy paste youe dataset PATH b/w quotes"
      ]
    },
    {
      "cell_type": "code",
      "execution_count": null,
      "metadata": {
        "colab": {
          "base_uri": "https://localhost:8080/",
          "height": 1000
        },
        "id": "zRYzJFWCIeCN",
        "outputId": "6ae69c5d-a35f-497c-a22b-6c17226849dd"
      },
      "outputs": [
        {
          "data": {
            "text/html": [
              "<div>\n",
              "<style scoped>\n",
              "    .dataframe tbody tr th:only-of-type {\n",
              "        vertical-align: middle;\n",
              "    }\n",
              "\n",
              "    .dataframe tbody tr th {\n",
              "        vertical-align: top;\n",
              "    }\n",
              "\n",
              "    .dataframe thead th {\n",
              "        text-align: right;\n",
              "    }\n",
              "</style>\n",
              "<table border=\"1\" class=\"dataframe\">\n",
              "  <thead>\n",
              "    <tr style=\"text-align: right;\">\n",
              "      <th></th>\n",
              "      <th>Restaurant</th>\n",
              "      <th>Review</th>\n",
              "      <th>Real=1/Fake=0</th>\n",
              "      <th>positive=1/negative=0</th>\n",
              "      <th>AWL</th>\n",
              "      <th>ASL</th>\n",
              "      <th>NOW</th>\n",
              "      <th>NVB</th>\n",
              "      <th>NAJ</th>\n",
              "      <th>NPV</th>\n",
              "      <th>NST</th>\n",
              "      <th>CDV</th>\n",
              "      <th>NTP</th>\n",
              "      <th>TPR</th>\n",
              "    </tr>\n",
              "  </thead>\n",
              "  <tbody>\n",
              "    <tr>\n",
              "      <th>0</th>\n",
              "      <td>Tikka Shack</td>\n",
              "      <td>Great food and great atmosphere! The chicken t...</td>\n",
              "      <td>0</td>\n",
              "      <td>1</td>\n",
              "      <td>NaN</td>\n",
              "      <td>NaN</td>\n",
              "      <td>NaN</td>\n",
              "      <td>NaN</td>\n",
              "      <td>NaN</td>\n",
              "      <td>NaN</td>\n",
              "      <td>NaN</td>\n",
              "      <td>NaN</td>\n",
              "      <td>NaN</td>\n",
              "      <td>NaN</td>\n",
              "    </tr>\n",
              "    <tr>\n",
              "      <th>1</th>\n",
              "      <td>Tikka Shack</td>\n",
              "      <td>I had heard good things about Tikka Shak so I ...</td>\n",
              "      <td>0</td>\n",
              "      <td>0</td>\n",
              "      <td>NaN</td>\n",
              "      <td>NaN</td>\n",
              "      <td>NaN</td>\n",
              "      <td>NaN</td>\n",
              "      <td>NaN</td>\n",
              "      <td>NaN</td>\n",
              "      <td>NaN</td>\n",
              "      <td>NaN</td>\n",
              "      <td>NaN</td>\n",
              "      <td>NaN</td>\n",
              "    </tr>\n",
              "    <tr>\n",
              "      <th>2</th>\n",
              "      <td>Tikka Shack</td>\n",
              "      <td>I was driving by tikka shack one day and decid...</td>\n",
              "      <td>0</td>\n",
              "      <td>0</td>\n",
              "      <td>NaN</td>\n",
              "      <td>NaN</td>\n",
              "      <td>NaN</td>\n",
              "      <td>NaN</td>\n",
              "      <td>NaN</td>\n",
              "      <td>NaN</td>\n",
              "      <td>NaN</td>\n",
              "      <td>NaN</td>\n",
              "      <td>NaN</td>\n",
              "      <td>NaN</td>\n",
              "    </tr>\n",
              "    <tr>\n",
              "      <th>3</th>\n",
              "      <td>Tikka Shack</td>\n",
              "      <td>Tikka Shack had the most modern and up-to-date...</td>\n",
              "      <td>0</td>\n",
              "      <td>1</td>\n",
              "      <td>NaN</td>\n",
              "      <td>NaN</td>\n",
              "      <td>NaN</td>\n",
              "      <td>NaN</td>\n",
              "      <td>NaN</td>\n",
              "      <td>NaN</td>\n",
              "      <td>NaN</td>\n",
              "      <td>NaN</td>\n",
              "      <td>NaN</td>\n",
              "      <td>NaN</td>\n",
              "    </tr>\n",
              "    <tr>\n",
              "      <th>4</th>\n",
              "      <td>India Palace\\nIndian\\nRestaurant</td>\n",
              "      <td>Today is the third time I've come to India Pal...</td>\n",
              "      <td>0</td>\n",
              "      <td>1</td>\n",
              "      <td>NaN</td>\n",
              "      <td>NaN</td>\n",
              "      <td>NaN</td>\n",
              "      <td>NaN</td>\n",
              "      <td>NaN</td>\n",
              "      <td>NaN</td>\n",
              "      <td>NaN</td>\n",
              "      <td>NaN</td>\n",
              "      <td>NaN</td>\n",
              "      <td>NaN</td>\n",
              "    </tr>\n",
              "    <tr>\n",
              "      <th>...</th>\n",
              "      <td>...</td>\n",
              "      <td>...</td>\n",
              "      <td>...</td>\n",
              "      <td>...</td>\n",
              "      <td>...</td>\n",
              "      <td>...</td>\n",
              "      <td>...</td>\n",
              "      <td>...</td>\n",
              "      <td>...</td>\n",
              "      <td>...</td>\n",
              "      <td>...</td>\n",
              "      <td>...</td>\n",
              "      <td>...</td>\n",
              "      <td>...</td>\n",
              "    </tr>\n",
              "    <tr>\n",
              "      <th>255</th>\n",
              "      <td>Tikka Shack</td>\n",
              "      <td>I usually don't eat outside very often and Tik...</td>\n",
              "      <td>0</td>\n",
              "      <td>1</td>\n",
              "      <td>NaN</td>\n",
              "      <td>NaN</td>\n",
              "      <td>NaN</td>\n",
              "      <td>NaN</td>\n",
              "      <td>NaN</td>\n",
              "      <td>NaN</td>\n",
              "      <td>NaN</td>\n",
              "      <td>NaN</td>\n",
              "      <td>NaN</td>\n",
              "      <td>NaN</td>\n",
              "    </tr>\n",
              "    <tr>\n",
              "      <th>256</th>\n",
              "      <td>Indian Palace Restaurant</td>\n",
              "      <td>The outside of this restaurant in this little ...</td>\n",
              "      <td>1</td>\n",
              "      <td>1</td>\n",
              "      <td>NaN</td>\n",
              "      <td>NaN</td>\n",
              "      <td>NaN</td>\n",
              "      <td>NaN</td>\n",
              "      <td>NaN</td>\n",
              "      <td>NaN</td>\n",
              "      <td>NaN</td>\n",
              "      <td>NaN</td>\n",
              "      <td>NaN</td>\n",
              "      <td>NaN</td>\n",
              "    </tr>\n",
              "    <tr>\n",
              "      <th>257</th>\n",
              "      <td>Indian Palace Restaurant</td>\n",
              "      <td>The food served at this place was at best medi...</td>\n",
              "      <td>0</td>\n",
              "      <td>0</td>\n",
              "      <td>NaN</td>\n",
              "      <td>NaN</td>\n",
              "      <td>NaN</td>\n",
              "      <td>NaN</td>\n",
              "      <td>NaN</td>\n",
              "      <td>NaN</td>\n",
              "      <td>NaN</td>\n",
              "      <td>NaN</td>\n",
              "      <td>NaN</td>\n",
              "      <td>NaN</td>\n",
              "    </tr>\n",
              "    <tr>\n",
              "      <th>258</th>\n",
              "      <td>Royal Indian Cuisine</td>\n",
              "      <td>Their food was worth the wait. Though it took ...</td>\n",
              "      <td>1</td>\n",
              "      <td>1</td>\n",
              "      <td>NaN</td>\n",
              "      <td>NaN</td>\n",
              "      <td>NaN</td>\n",
              "      <td>NaN</td>\n",
              "      <td>NaN</td>\n",
              "      <td>NaN</td>\n",
              "      <td>NaN</td>\n",
              "      <td>NaN</td>\n",
              "      <td>NaN</td>\n",
              "      <td>NaN</td>\n",
              "    </tr>\n",
              "    <tr>\n",
              "      <th>259</th>\n",
              "      <td>Royal Indian Cuisine</td>\n",
              "      <td>I wouldn't recommend the food service here at ...</td>\n",
              "      <td>0</td>\n",
              "      <td>0</td>\n",
              "      <td>NaN</td>\n",
              "      <td>NaN</td>\n",
              "      <td>NaN</td>\n",
              "      <td>NaN</td>\n",
              "      <td>NaN</td>\n",
              "      <td>NaN</td>\n",
              "      <td>NaN</td>\n",
              "      <td>NaN</td>\n",
              "      <td>NaN</td>\n",
              "      <td>NaN</td>\n",
              "    </tr>\n",
              "  </tbody>\n",
              "</table>\n",
              "<p>260 rows × 14 columns</p>\n",
              "</div>"
            ],
            "text/plain": [
              "                           Restaurant  \\\n",
              "0                         Tikka Shack   \n",
              "1                         Tikka Shack   \n",
              "2                         Tikka Shack   \n",
              "3                         Tikka Shack   \n",
              "4    India Palace\\nIndian\\nRestaurant   \n",
              "..                                ...   \n",
              "255                       Tikka Shack   \n",
              "256          Indian Palace Restaurant   \n",
              "257          Indian Palace Restaurant   \n",
              "258              Royal Indian Cuisine   \n",
              "259              Royal Indian Cuisine   \n",
              "\n",
              "                                                Review  Real=1/Fake=0  \\\n",
              "0    Great food and great atmosphere! The chicken t...              0   \n",
              "1    I had heard good things about Tikka Shak so I ...              0   \n",
              "2    I was driving by tikka shack one day and decid...              0   \n",
              "3    Tikka Shack had the most modern and up-to-date...              0   \n",
              "4    Today is the third time I've come to India Pal...              0   \n",
              "..                                                 ...            ...   \n",
              "255  I usually don't eat outside very often and Tik...              0   \n",
              "256  The outside of this restaurant in this little ...              1   \n",
              "257  The food served at this place was at best medi...              0   \n",
              "258  Their food was worth the wait. Though it took ...              1   \n",
              "259  I wouldn't recommend the food service here at ...              0   \n",
              "\n",
              "     positive=1/negative=0  AWL  ASL  NOW  NVB  NAJ  NPV  NST  CDV  NTP  TPR  \n",
              "0                        1  NaN  NaN  NaN  NaN  NaN  NaN  NaN  NaN  NaN  NaN  \n",
              "1                        0  NaN  NaN  NaN  NaN  NaN  NaN  NaN  NaN  NaN  NaN  \n",
              "2                        0  NaN  NaN  NaN  NaN  NaN  NaN  NaN  NaN  NaN  NaN  \n",
              "3                        1  NaN  NaN  NaN  NaN  NaN  NaN  NaN  NaN  NaN  NaN  \n",
              "4                        1  NaN  NaN  NaN  NaN  NaN  NaN  NaN  NaN  NaN  NaN  \n",
              "..                     ...  ...  ...  ...  ...  ...  ...  ...  ...  ...  ...  \n",
              "255                      1  NaN  NaN  NaN  NaN  NaN  NaN  NaN  NaN  NaN  NaN  \n",
              "256                      1  NaN  NaN  NaN  NaN  NaN  NaN  NaN  NaN  NaN  NaN  \n",
              "257                      0  NaN  NaN  NaN  NaN  NaN  NaN  NaN  NaN  NaN  NaN  \n",
              "258                      1  NaN  NaN  NaN  NaN  NaN  NaN  NaN  NaN  NaN  NaN  \n",
              "259                      0  NaN  NaN  NaN  NaN  NaN  NaN  NaN  NaN  NaN  NaN  \n",
              "\n",
              "[260 rows x 14 columns]"
            ]
          },
          "metadata": {},
          "output_type": "display_data"
        }
      ],
      "source": [
        "display(df)"
      ]
    },
    {
      "cell_type": "markdown",
      "metadata": {
        "id": "-zk4xcz8lWnk"
      },
      "source": [
        "# Feature Extraction/Calculation"
      ]
    },
    {
      "cell_type": "code",
      "execution_count": null,
      "metadata": {
        "id": "ivjnYZsSHe6B",
        "outputId": "bbe0f9ad-b123-4a22-9b37-b82d77cd7d45"
      },
      "outputs": [
        {
          "name": "stderr",
          "output_type": "stream",
          "text": [
            "/var/folders/4h/srzy3b3174x98fmcjyygj8lh0000gp/T/ipykernel_10629/2541522062.py:32: FutureWarning: Returning a DataFrame from Series.apply when the supplied function returns a Series is deprecated and will be removed in a future version.\n",
            "  df[['AWL', 'ASL', 'NWO', 'NVB', 'NAJ', 'NPV', 'NST', 'CDV']] = df['Review'].apply(extract_features).apply(pd.Series)\n"
          ]
        }
      ],
      "source": [
        "import spacy\n",
        "nlp = spacy.load(\"en_core_web_sm\")\n",
        "\n",
        "\n",
        "#  feature extraction\n",
        "def extract_features(text):\n",
        "    # Process the text with spaCy\n",
        "    doc = nlp(text)\n",
        "\n",
        "    words = [token.text for token in doc if not token.is_punct and not token.is_space]\n",
        "    awl = sum(len(word) for word in words) / len(words) if words else 0\n",
        "\n",
        "    sentences = [sent.text for sent in doc.sents]\n",
        "    asl = len(words) / len(sentences) if words else 0\n",
        "\n",
        "    nwo = len(words)\n",
        "\n",
        "    nvb = len([token for token in doc if token.pos_ == \"VERB\"])\n",
        "\n",
        "    naj = len([token for token in doc if token.pos_ == \"ADJ\"])\n",
        "\n",
        "    npv = len([sent for sent in doc.sents if \"by\" in sent.text.lower()])\n",
        "\n",
        "    nst = len(sentences)\n",
        "\n",
        "    tokens = [token.text.lower() for token in doc if not token.is_punct and not token.is_space]\n",
        "    cdv = len(set(tokens)) / len(tokens) if tokens else 0\n",
        "\n",
        "    return awl, asl, nwo, nvb, naj, npv, nst, cdv\n",
        "\n",
        "# Apply feature extraction to the 'Review' column\n",
        "df[['AWL', 'ASL', 'NWO', 'NVB', 'NAJ', 'NPV', 'NST', 'CDV']] = df['Review'].apply(extract_features).apply(pd.Series)\n"
      ]
    },
    {
      "cell_type": "code",
      "execution_count": null,
      "metadata": {
        "id": "m7jLynHnH6gH",
        "outputId": "698e7908-2973-46db-c5e7-87083decafdc"
      },
      "outputs": [
        {
          "name": "stderr",
          "output_type": "stream",
          "text": [
            "/var/folders/4h/srzy3b3174x98fmcjyygj8lh0000gp/T/ipykernel_10629/1977517102.py:18: FutureWarning: Returning a DataFrame from Series.apply when the supplied function returns a Series is deprecated and will be removed in a future version.\n",
            "  df[['NTP', 'TPR']] = df['Review'].apply(count_typos_and_tpr).apply(pd.Series)\n"
          ]
        }
      ],
      "source": [
        "spell = SpellChecker()\n",
        "\n",
        "def count_typos_and_tpr(text):\n",
        "    # Process the text with spaCy\n",
        "    doc = nlp(text)\n",
        "\n",
        "    # Calculate Number of Typos (NTP)\n",
        "    words = [token.text for token in doc if not token.is_punct and not token.is_space]\n",
        "    misspelled = spell.unknown(words)\n",
        "    ntp = len(misspelled)\n",
        "\n",
        "    # Calculate Typo Ratio (TPR)\n",
        "    tpr = ntp / len(words) if words else 0\n",
        "\n",
        "    return ntp, tpr\n",
        "\n",
        "# Apply the function to the 'Review' column\n",
        "df[['NTP', 'TPR']] = df['Review'].apply(count_typos_and_tpr).apply(pd.Series)\n"
      ]
    },
    {
      "cell_type": "code",
      "execution_count": null,
      "metadata": {
        "id": "xq__TsapH-Zl"
      },
      "outputs": [],
      "source": [
        "df.to_excel(\"group-3.xlsx\", index=False)\n"
      ]
    },
    {
      "cell_type": "code",
      "execution_count": null,
      "metadata": {
        "colab": {
          "base_uri": "https://localhost:8080/",
          "height": 1000
        },
        "id": "XYgcHE-aJ36B",
        "outputId": "0038ba24-7f17-4236-d0b8-343bc6a1bb91"
      },
      "outputs": [
        {
          "data": {
            "text/html": [
              "<div>\n",
              "<style scoped>\n",
              "    .dataframe tbody tr th:only-of-type {\n",
              "        vertical-align: middle;\n",
              "    }\n",
              "\n",
              "    .dataframe tbody tr th {\n",
              "        vertical-align: top;\n",
              "    }\n",
              "\n",
              "    .dataframe thead th {\n",
              "        text-align: right;\n",
              "    }\n",
              "</style>\n",
              "<table border=\"1\" class=\"dataframe\">\n",
              "  <thead>\n",
              "    <tr style=\"text-align: right;\">\n",
              "      <th></th>\n",
              "      <th>Restaurant</th>\n",
              "      <th>Review</th>\n",
              "      <th>Real=1/Fake=0</th>\n",
              "      <th>positive=1/negative=0</th>\n",
              "      <th>AWL</th>\n",
              "      <th>ASL</th>\n",
              "      <th>NOW</th>\n",
              "      <th>NVB</th>\n",
              "      <th>NAJ</th>\n",
              "      <th>NPV</th>\n",
              "      <th>NST</th>\n",
              "      <th>CDV</th>\n",
              "      <th>NTP</th>\n",
              "      <th>TPR</th>\n",
              "      <th>NWO</th>\n",
              "    </tr>\n",
              "  </thead>\n",
              "  <tbody>\n",
              "    <tr>\n",
              "      <th>0</th>\n",
              "      <td>Tikka Shack</td>\n",
              "      <td>Great food and great atmosphere! The chicken t...</td>\n",
              "      <td>0</td>\n",
              "      <td>1</td>\n",
              "      <td>4.674699</td>\n",
              "      <td>16.600000</td>\n",
              "      <td>NaN</td>\n",
              "      <td>12.0</td>\n",
              "      <td>6.0</td>\n",
              "      <td>0.0</td>\n",
              "      <td>5.0</td>\n",
              "      <td>0.771084</td>\n",
              "      <td>3.0</td>\n",
              "      <td>0.036145</td>\n",
              "      <td>83.0</td>\n",
              "    </tr>\n",
              "    <tr>\n",
              "      <th>1</th>\n",
              "      <td>Tikka Shack</td>\n",
              "      <td>I had heard good things about Tikka Shak so I ...</td>\n",
              "      <td>0</td>\n",
              "      <td>0</td>\n",
              "      <td>4.073394</td>\n",
              "      <td>18.166667</td>\n",
              "      <td>NaN</td>\n",
              "      <td>15.0</td>\n",
              "      <td>8.0</td>\n",
              "      <td>0.0</td>\n",
              "      <td>6.0</td>\n",
              "      <td>0.733945</td>\n",
              "      <td>0.0</td>\n",
              "      <td>0.000000</td>\n",
              "      <td>109.0</td>\n",
              "    </tr>\n",
              "    <tr>\n",
              "      <th>2</th>\n",
              "      <td>Tikka Shack</td>\n",
              "      <td>I was driving by tikka shack one day and decid...</td>\n",
              "      <td>0</td>\n",
              "      <td>0</td>\n",
              "      <td>3.543860</td>\n",
              "      <td>16.285714</td>\n",
              "      <td>NaN</td>\n",
              "      <td>15.0</td>\n",
              "      <td>5.0</td>\n",
              "      <td>1.0</td>\n",
              "      <td>7.0</td>\n",
              "      <td>0.666667</td>\n",
              "      <td>3.0</td>\n",
              "      <td>0.026316</td>\n",
              "      <td>114.0</td>\n",
              "    </tr>\n",
              "    <tr>\n",
              "      <th>3</th>\n",
              "      <td>Tikka Shack</td>\n",
              "      <td>Tikka Shack had the most modern and up-to-date...</td>\n",
              "      <td>0</td>\n",
              "      <td>1</td>\n",
              "      <td>4.393443</td>\n",
              "      <td>15.250000</td>\n",
              "      <td>NaN</td>\n",
              "      <td>9.0</td>\n",
              "      <td>7.0</td>\n",
              "      <td>0.0</td>\n",
              "      <td>4.0</td>\n",
              "      <td>0.803279</td>\n",
              "      <td>0.0</td>\n",
              "      <td>0.000000</td>\n",
              "      <td>61.0</td>\n",
              "    </tr>\n",
              "    <tr>\n",
              "      <th>4</th>\n",
              "      <td>India Palace\\nIndian\\nRestaurant</td>\n",
              "      <td>Today is the third time I've come to India Pal...</td>\n",
              "      <td>0</td>\n",
              "      <td>1</td>\n",
              "      <td>4.440000</td>\n",
              "      <td>12.500000</td>\n",
              "      <td>NaN</td>\n",
              "      <td>10.0</td>\n",
              "      <td>9.0</td>\n",
              "      <td>0.0</td>\n",
              "      <td>6.0</td>\n",
              "      <td>0.760000</td>\n",
              "      <td>1.0</td>\n",
              "      <td>0.013333</td>\n",
              "      <td>75.0</td>\n",
              "    </tr>\n",
              "    <tr>\n",
              "      <th>...</th>\n",
              "      <td>...</td>\n",
              "      <td>...</td>\n",
              "      <td>...</td>\n",
              "      <td>...</td>\n",
              "      <td>...</td>\n",
              "      <td>...</td>\n",
              "      <td>...</td>\n",
              "      <td>...</td>\n",
              "      <td>...</td>\n",
              "      <td>...</td>\n",
              "      <td>...</td>\n",
              "      <td>...</td>\n",
              "      <td>...</td>\n",
              "      <td>...</td>\n",
              "      <td>...</td>\n",
              "    </tr>\n",
              "    <tr>\n",
              "      <th>255</th>\n",
              "      <td>Tikka Shack</td>\n",
              "      <td>I usually don't eat outside very often and Tik...</td>\n",
              "      <td>0</td>\n",
              "      <td>1</td>\n",
              "      <td>3.962963</td>\n",
              "      <td>13.500000</td>\n",
              "      <td>NaN</td>\n",
              "      <td>4.0</td>\n",
              "      <td>4.0</td>\n",
              "      <td>0.0</td>\n",
              "      <td>4.0</td>\n",
              "      <td>0.759259</td>\n",
              "      <td>2.0</td>\n",
              "      <td>0.037037</td>\n",
              "      <td>54.0</td>\n",
              "    </tr>\n",
              "    <tr>\n",
              "      <th>256</th>\n",
              "      <td>Indian Palace Restaurant</td>\n",
              "      <td>The outside of this restaurant in this little ...</td>\n",
              "      <td>1</td>\n",
              "      <td>1</td>\n",
              "      <td>4.172043</td>\n",
              "      <td>18.600000</td>\n",
              "      <td>NaN</td>\n",
              "      <td>9.0</td>\n",
              "      <td>7.0</td>\n",
              "      <td>0.0</td>\n",
              "      <td>5.0</td>\n",
              "      <td>0.698925</td>\n",
              "      <td>3.0</td>\n",
              "      <td>0.032258</td>\n",
              "      <td>93.0</td>\n",
              "    </tr>\n",
              "    <tr>\n",
              "      <th>257</th>\n",
              "      <td>Indian Palace Restaurant</td>\n",
              "      <td>The food served at this place was at best medi...</td>\n",
              "      <td>0</td>\n",
              "      <td>0</td>\n",
              "      <td>4.458333</td>\n",
              "      <td>12.000000</td>\n",
              "      <td>NaN</td>\n",
              "      <td>7.0</td>\n",
              "      <td>9.0</td>\n",
              "      <td>0.0</td>\n",
              "      <td>6.0</td>\n",
              "      <td>0.666667</td>\n",
              "      <td>2.0</td>\n",
              "      <td>0.027778</td>\n",
              "      <td>72.0</td>\n",
              "    </tr>\n",
              "    <tr>\n",
              "      <th>258</th>\n",
              "      <td>Royal Indian Cuisine</td>\n",
              "      <td>Their food was worth the wait. Though it took ...</td>\n",
              "      <td>1</td>\n",
              "      <td>1</td>\n",
              "      <td>4.500000</td>\n",
              "      <td>18.666667</td>\n",
              "      <td>NaN</td>\n",
              "      <td>5.0</td>\n",
              "      <td>6.0</td>\n",
              "      <td>0.0</td>\n",
              "      <td>3.0</td>\n",
              "      <td>0.803571</td>\n",
              "      <td>5.0</td>\n",
              "      <td>0.089286</td>\n",
              "      <td>56.0</td>\n",
              "    </tr>\n",
              "    <tr>\n",
              "      <th>259</th>\n",
              "      <td>Royal Indian Cuisine</td>\n",
              "      <td>I wouldn't recommend the food service here at ...</td>\n",
              "      <td>0</td>\n",
              "      <td>0</td>\n",
              "      <td>4.511628</td>\n",
              "      <td>10.750000</td>\n",
              "      <td>NaN</td>\n",
              "      <td>7.0</td>\n",
              "      <td>4.0</td>\n",
              "      <td>0.0</td>\n",
              "      <td>4.0</td>\n",
              "      <td>0.837209</td>\n",
              "      <td>1.0</td>\n",
              "      <td>0.023256</td>\n",
              "      <td>43.0</td>\n",
              "    </tr>\n",
              "  </tbody>\n",
              "</table>\n",
              "<p>260 rows × 15 columns</p>\n",
              "</div>"
            ],
            "text/plain": [
              "                           Restaurant  \\\n",
              "0                         Tikka Shack   \n",
              "1                         Tikka Shack   \n",
              "2                         Tikka Shack   \n",
              "3                         Tikka Shack   \n",
              "4    India Palace\\nIndian\\nRestaurant   \n",
              "..                                ...   \n",
              "255                       Tikka Shack   \n",
              "256          Indian Palace Restaurant   \n",
              "257          Indian Palace Restaurant   \n",
              "258              Royal Indian Cuisine   \n",
              "259              Royal Indian Cuisine   \n",
              "\n",
              "                                                Review  Real=1/Fake=0  \\\n",
              "0    Great food and great atmosphere! The chicken t...              0   \n",
              "1    I had heard good things about Tikka Shak so I ...              0   \n",
              "2    I was driving by tikka shack one day and decid...              0   \n",
              "3    Tikka Shack had the most modern and up-to-date...              0   \n",
              "4    Today is the third time I've come to India Pal...              0   \n",
              "..                                                 ...            ...   \n",
              "255  I usually don't eat outside very often and Tik...              0   \n",
              "256  The outside of this restaurant in this little ...              1   \n",
              "257  The food served at this place was at best medi...              0   \n",
              "258  Their food was worth the wait. Though it took ...              1   \n",
              "259  I wouldn't recommend the food service here at ...              0   \n",
              "\n",
              "     positive=1/negative=0       AWL        ASL  NOW   NVB  NAJ  NPV  NST  \\\n",
              "0                        1  4.674699  16.600000  NaN  12.0  6.0  0.0  5.0   \n",
              "1                        0  4.073394  18.166667  NaN  15.0  8.0  0.0  6.0   \n",
              "2                        0  3.543860  16.285714  NaN  15.0  5.0  1.0  7.0   \n",
              "3                        1  4.393443  15.250000  NaN   9.0  7.0  0.0  4.0   \n",
              "4                        1  4.440000  12.500000  NaN  10.0  9.0  0.0  6.0   \n",
              "..                     ...       ...        ...  ...   ...  ...  ...  ...   \n",
              "255                      1  3.962963  13.500000  NaN   4.0  4.0  0.0  4.0   \n",
              "256                      1  4.172043  18.600000  NaN   9.0  7.0  0.0  5.0   \n",
              "257                      0  4.458333  12.000000  NaN   7.0  9.0  0.0  6.0   \n",
              "258                      1  4.500000  18.666667  NaN   5.0  6.0  0.0  3.0   \n",
              "259                      0  4.511628  10.750000  NaN   7.0  4.0  0.0  4.0   \n",
              "\n",
              "          CDV  NTP       TPR    NWO  \n",
              "0    0.771084  3.0  0.036145   83.0  \n",
              "1    0.733945  0.0  0.000000  109.0  \n",
              "2    0.666667  3.0  0.026316  114.0  \n",
              "3    0.803279  0.0  0.000000   61.0  \n",
              "4    0.760000  1.0  0.013333   75.0  \n",
              "..        ...  ...       ...    ...  \n",
              "255  0.759259  2.0  0.037037   54.0  \n",
              "256  0.698925  3.0  0.032258   93.0  \n",
              "257  0.666667  2.0  0.027778   72.0  \n",
              "258  0.803571  5.0  0.089286   56.0  \n",
              "259  0.837209  1.0  0.023256   43.0  \n",
              "\n",
              "[260 rows x 15 columns]"
            ]
          },
          "metadata": {},
          "output_type": "display_data"
        }
      ],
      "source": [
        "display(df)"
      ]
    },
    {
      "cell_type": "markdown",
      "metadata": {
        "id": "nKQjF_BLl14v"
      },
      "source": [
        "\n",
        "\n",
        "# Split and Shuffle"
      ]
    },
    {
      "cell_type": "code",
      "execution_count": null,
      "metadata": {
        "colab": {
          "base_uri": "https://localhost:8080/"
        },
        "id": "n_dT-Pfnl-lB",
        "outputId": "a637a41a-5a90-4bf0-aeb2-ab7b6ed7b001"
      },
      "outputs": [
        {
          "name": "stdout",
          "output_type": "stream",
          "text": [
            "Train set size: 156\n",
            "Validation set size: 52\n",
            "Test set size: 52\n"
          ]
        }
      ],
      "source": [
        "from sklearn.model_selection import train_test_split\n",
        "\n",
        "# 1. Split the data into a combined train + validation set and a test set\n",
        "train_val_df, test_df = train_test_split(df, test_size=0.20, stratify=df['Real=1/Fake=0'], random_state=42)\n",
        "\n",
        "# 2. Split the train + validation set into separate train and validation sets\n",
        "train_df, val_df = train_test_split(train_val_df, test_size=0.25, stratify=train_val_df['Real=1/Fake=0'], random_state=42)\n",
        "\n",
        "print(f\"Train set size: {len(train_df)}\")\n",
        "print(f\"Validation set size: {len(val_df)}\")\n",
        "print(f\"Test set size: {len(test_df)}\")\n"
      ]
    },
    {
      "cell_type": "code",
      "execution_count": null,
      "metadata": {
        "id": "BrgXDTVmmxMS"
      },
      "outputs": [],
      "source": [
        "# train_test_split already shuffles, but just to be safe\n",
        "train_df = train_df.sample(frac=1, random_state=42).reset_index(drop=True)\n",
        "val_df = val_df.sample(frac=1, random_state=42).reset_index(drop=True)\n",
        "test_df = test_df.sample(frac=1, random_state=42).reset_index(drop=True)\n"
      ]
    },
    {
      "cell_type": "code",
      "execution_count": null,
      "metadata": {
        "id": "gMjBr1yUnpTv"
      },
      "outputs": [],
      "source": [
        "# Extracting features and labels for model training\n",
        "X_train = train_df[['AWL', 'ASL', 'NWO', 'NVB', 'NAJ', 'NPV', 'NST', 'CDV', 'NTP', 'TPR']]\n",
        "y_train = train_df['Real=1/Fake=0']\n",
        "\n",
        "X_val = val_df[['AWL', 'ASL', 'NWO', 'NVB', 'NAJ', 'NPV', 'NST', 'CDV', 'NTP', 'TPR']]\n",
        "y_val = val_df['Real=1/Fake=0']\n",
        "\n",
        "X_test = test_df[['AWL', 'ASL', 'NWO', 'NVB', 'NAJ', 'NPV', 'NST', 'CDV', 'NTP', 'TPR']]\n",
        "y_test = test_df['Real=1/Fake=0']\n"
      ]
    },
    {
      "cell_type": "markdown",
      "metadata": {
        "id": "fJfgThvEni-R"
      },
      "source": [
        "# Logistic Regression"
      ]
    },
    {
      "cell_type": "code",
      "execution_count": null,
      "metadata": {
        "colab": {
          "base_uri": "https://localhost:8080/",
          "height": 118
        },
        "id": "NFD9EFvonzwq",
        "outputId": "ecea39af-8ac1-447f-ebb3-c4de6d03b48f"
      },
      "outputs": [
        {
          "data": {
            "text/html": [
              "<style>#sk-container-id-1 {color: black;}#sk-container-id-1 pre{padding: 0;}#sk-container-id-1 div.sk-toggleable {background-color: white;}#sk-container-id-1 label.sk-toggleable__label {cursor: pointer;display: block;width: 100%;margin-bottom: 0;padding: 0.3em;box-sizing: border-box;text-align: center;}#sk-container-id-1 label.sk-toggleable__label-arrow:before {content: \"▸\";float: left;margin-right: 0.25em;color: #696969;}#sk-container-id-1 label.sk-toggleable__label-arrow:hover:before {color: black;}#sk-container-id-1 div.sk-estimator:hover label.sk-toggleable__label-arrow:before {color: black;}#sk-container-id-1 div.sk-toggleable__content {max-height: 0;max-width: 0;overflow: hidden;text-align: left;background-color: #f0f8ff;}#sk-container-id-1 div.sk-toggleable__content pre {margin: 0.2em;color: black;border-radius: 0.25em;background-color: #f0f8ff;}#sk-container-id-1 input.sk-toggleable__control:checked~div.sk-toggleable__content {max-height: 200px;max-width: 100%;overflow: auto;}#sk-container-id-1 input.sk-toggleable__control:checked~label.sk-toggleable__label-arrow:before {content: \"▾\";}#sk-container-id-1 div.sk-estimator input.sk-toggleable__control:checked~label.sk-toggleable__label {background-color: #d4ebff;}#sk-container-id-1 div.sk-label input.sk-toggleable__control:checked~label.sk-toggleable__label {background-color: #d4ebff;}#sk-container-id-1 input.sk-hidden--visually {border: 0;clip: rect(1px 1px 1px 1px);clip: rect(1px, 1px, 1px, 1px);height: 1px;margin: -1px;overflow: hidden;padding: 0;position: absolute;width: 1px;}#sk-container-id-1 div.sk-estimator {font-family: monospace;background-color: #f0f8ff;border: 1px dotted black;border-radius: 0.25em;box-sizing: border-box;margin-bottom: 0.5em;}#sk-container-id-1 div.sk-estimator:hover {background-color: #d4ebff;}#sk-container-id-1 div.sk-parallel-item::after {content: \"\";width: 100%;border-bottom: 1px solid gray;flex-grow: 1;}#sk-container-id-1 div.sk-label:hover label.sk-toggleable__label {background-color: #d4ebff;}#sk-container-id-1 div.sk-serial::before {content: \"\";position: absolute;border-left: 1px solid gray;box-sizing: border-box;top: 0;bottom: 0;left: 50%;z-index: 0;}#sk-container-id-1 div.sk-serial {display: flex;flex-direction: column;align-items: center;background-color: white;padding-right: 0.2em;padding-left: 0.2em;position: relative;}#sk-container-id-1 div.sk-item {position: relative;z-index: 1;}#sk-container-id-1 div.sk-parallel {display: flex;align-items: stretch;justify-content: center;background-color: white;position: relative;}#sk-container-id-1 div.sk-item::before, #sk-container-id-1 div.sk-parallel-item::before {content: \"\";position: absolute;border-left: 1px solid gray;box-sizing: border-box;top: 0;bottom: 0;left: 50%;z-index: -1;}#sk-container-id-1 div.sk-parallel-item {display: flex;flex-direction: column;z-index: 1;position: relative;background-color: white;}#sk-container-id-1 div.sk-parallel-item:first-child::after {align-self: flex-end;width: 50%;}#sk-container-id-1 div.sk-parallel-item:last-child::after {align-self: flex-start;width: 50%;}#sk-container-id-1 div.sk-parallel-item:only-child::after {width: 0;}#sk-container-id-1 div.sk-dashed-wrapped {border: 1px dashed gray;margin: 0 0.4em 0.5em 0.4em;box-sizing: border-box;padding-bottom: 0.4em;background-color: white;}#sk-container-id-1 div.sk-label label {font-family: monospace;font-weight: bold;display: inline-block;line-height: 1.2em;}#sk-container-id-1 div.sk-label-container {text-align: center;}#sk-container-id-1 div.sk-container {/* jupyter's `normalize.less` sets `[hidden] { display: none; }` but bootstrap.min.css set `[hidden] { display: none !important; }` so we also need the `!important` here to be able to override the default hidden behavior on the sphinx rendered scikit-learn.org. See: https://github.com/scikit-learn/scikit-learn/issues/21755 */display: inline-block !important;position: relative;}#sk-container-id-1 div.sk-text-repr-fallback {display: none;}</style><div id=\"sk-container-id-1\" class=\"sk-top-container\"><div class=\"sk-text-repr-fallback\"><pre>GridSearchCV(cv=5, estimator=LogisticRegression(),\n",
              "             param_grid={&#x27;C&#x27;: [0.001, 0.01, 0.1, 1, 10, 100, 1000],\n",
              "                         &#x27;penalty&#x27;: [&#x27;l1&#x27;, &#x27;l2&#x27;], &#x27;solver&#x27;: [&#x27;liblinear&#x27;]},\n",
              "             return_train_score=True, scoring=&#x27;f1&#x27;)</pre><b>In a Jupyter environment, please rerun this cell to show the HTML representation or trust the notebook. <br />On GitHub, the HTML representation is unable to render, please try loading this page with nbviewer.org.</b></div><div class=\"sk-container\" hidden><div class=\"sk-item sk-dashed-wrapped\"><div class=\"sk-label-container\"><div class=\"sk-label sk-toggleable\"><input class=\"sk-toggleable__control sk-hidden--visually\" id=\"sk-estimator-id-1\" type=\"checkbox\" ><label for=\"sk-estimator-id-1\" class=\"sk-toggleable__label sk-toggleable__label-arrow\">GridSearchCV</label><div class=\"sk-toggleable__content\"><pre>GridSearchCV(cv=5, estimator=LogisticRegression(),\n",
              "             param_grid={&#x27;C&#x27;: [0.001, 0.01, 0.1, 1, 10, 100, 1000],\n",
              "                         &#x27;penalty&#x27;: [&#x27;l1&#x27;, &#x27;l2&#x27;], &#x27;solver&#x27;: [&#x27;liblinear&#x27;]},\n",
              "             return_train_score=True, scoring=&#x27;f1&#x27;)</pre></div></div></div><div class=\"sk-parallel\"><div class=\"sk-parallel-item\"><div class=\"sk-item\"><div class=\"sk-label-container\"><div class=\"sk-label sk-toggleable\"><input class=\"sk-toggleable__control sk-hidden--visually\" id=\"sk-estimator-id-2\" type=\"checkbox\" ><label for=\"sk-estimator-id-2\" class=\"sk-toggleable__label sk-toggleable__label-arrow\">estimator: LogisticRegression</label><div class=\"sk-toggleable__content\"><pre>LogisticRegression()</pre></div></div></div><div class=\"sk-serial\"><div class=\"sk-item\"><div class=\"sk-estimator sk-toggleable\"><input class=\"sk-toggleable__control sk-hidden--visually\" id=\"sk-estimator-id-3\" type=\"checkbox\" ><label for=\"sk-estimator-id-3\" class=\"sk-toggleable__label sk-toggleable__label-arrow\">LogisticRegression</label><div class=\"sk-toggleable__content\"><pre>LogisticRegression()</pre></div></div></div></div></div></div></div></div></div></div>"
            ],
            "text/plain": [
              "GridSearchCV(cv=5, estimator=LogisticRegression(),\n",
              "             param_grid={'C': [0.001, 0.01, 0.1, 1, 10, 100, 1000],\n",
              "                         'penalty': ['l1', 'l2'], 'solver': ['liblinear']},\n",
              "             return_train_score=True, scoring='f1')"
            ]
          },
          "execution_count": 16,
          "metadata": {},
          "output_type": "execute_result"
        }
      ],
      "source": [
        "from sklearn.linear_model import LogisticRegression\n",
        "from sklearn.model_selection import GridSearchCV\n",
        "\n",
        "# Model Hyperparameter Tuning\n",
        "param_grid = {\n",
        "    'C': [0.001, 0.01, 0.1, 1, 10, 100, 1000],\n",
        "    'penalty': ['l1', 'l2'],\n",
        "    'solver': ['liblinear']\n",
        "}\n",
        "\n",
        "logreg = LogisticRegression()\n",
        "\n",
        "# Using GridSearchCV for 5-fold cross validation and F1-score optimization\n",
        "grid_search = GridSearchCV(logreg, param_grid, cv=5, scoring='f1', return_train_score=True)\n",
        "\n",
        "grid_search.fit(X_train, y_train)\n"
      ]
    },
    {
      "cell_type": "code",
      "execution_count": null,
      "metadata": {
        "id": "oeOjTudzoAtG"
      },
      "outputs": [],
      "source": [
        "import numpy as np\n",
        "from sklearn.feature_selection import SelectFromModel\n",
        "from sklearn.preprocessing import StandardScaler\n",
        "\n",
        "# Feature Selection\n",
        "selector = SelectFromModel(grid_search.best_estimator_, threshold=-np.inf, max_features=10)\n",
        "X_train_selected = selector.fit_transform(X_train, y_train)\n",
        "\n",
        "best_logreg = grid_search.best_estimator_\n",
        "best_logreg.fit(X_train_selected, y_train)\n",
        "\n",
        "X_val_selected = selector.transform(X_val)\n",
        "\n",
        "# Feature Scaling\n",
        "scaler = StandardScaler()\n",
        "X_train_scaled = scaler.fit_transform(X_train_selected)\n",
        "X_val_scaled = scaler.transform(X_val_selected)\n",
        "\n",
        "# Using the trained model to predict on validation data\n",
        "y_val_pred = best_logreg.predict(X_val_selected)"
      ]
    },
    {
      "cell_type": "code",
      "execution_count": null,
      "metadata": {
        "colab": {
          "base_uri": "https://localhost:8080/"
        },
        "id": "-PS693JvovD7",
        "outputId": "30be890e-d0d6-4db9-af3a-268e04a74010"
      },
      "outputs": [
        {
          "name": "stdout",
          "output_type": "stream",
          "text": [
            "Validation Accuracy: 0.5000\n",
            "Validation F1 Score: 0.6667\n"
          ]
        }
      ],
      "source": [
        "from sklearn.metrics import accuracy_score, f1_score\n",
        "\n",
        "val_accuracy = accuracy_score(y_val, y_val_pred)\n",
        "val_f1 = f1_score(y_val, y_val_pred)\n",
        "\n",
        "print(f\"Validation Accuracy: {val_accuracy:.4f}\")\n",
        "print(f\"Validation F1 Score: {val_f1:.4f}\")\n"
      ]
    },
    {
      "cell_type": "code",
      "execution_count": null,
      "metadata": {
        "colab": {
          "base_uri": "https://localhost:8080/"
        },
        "id": "6DMl-3OoPd4h",
        "outputId": "b3cc0ea7-ce6b-49fd-fe7e-1693949f0081"
      },
      "outputs": [
        {
          "name": "stdout",
          "output_type": "stream",
          "text": [
            "Best Parameters: {'C': 11.288378916846883, 'penalty': 'l1', 'solver': 'liblinear'}\n",
            "Validation Accuracy: 0.6730769230769231\n",
            "Validation F1 Score: 0.6382978723404256\n"
          ]
        }
      ],
      "source": [
        "from sklearn.preprocessing import StandardScaler\n",
        "\n",
        "# Hyperparameter Optimization with Scaled Data\n",
        "scaler = StandardScaler()\n",
        "X_train_selected_scaled = scaler.fit_transform(X_train_selected)\n",
        "X_val_selected_scaled = scaler.transform(X_val_selected)\n",
        "\n",
        "param_grid = {\n",
        "    'C': np.logspace(-4, 4, 20),\n",
        "    'penalty': ['l1', 'l2'],\n",
        "    'solver': ['liblinear']\n",
        "}\n",
        "\n",
        "grid_search = GridSearchCV(LogisticRegression(), param_grid, cv=5, scoring='f1', n_jobs=-1)\n",
        "grid_search.fit(X_train_selected_scaled, y_train)\n",
        "\n",
        "print(\"Best Parameters:\", grid_search.best_params_)\n",
        "\n",
        "y_val_pred = grid_search.predict(X_val_selected_scaled)\n",
        "val_accuracy = accuracy_score(y_val, y_val_pred)\n",
        "val_f1 = f1_score(y_val, y_val_pred)\n",
        "\n",
        "print(\"Validation Accuracy:\", val_accuracy)\n",
        "print(\"Validation F1 Score:\", val_f1)\n"
      ]
    },
    {
      "cell_type": "code",
      "execution_count": null,
      "metadata": {
        "colab": {
          "base_uri": "https://localhost:8080/"
        },
        "id": "SmAQ-nRlfb5X",
        "outputId": "0abeb998-f79d-4447-a90a-bdda069524a8"
      },
      "outputs": [
        {
          "name": "stdout",
          "output_type": "stream",
          "text": [
            "Test Accuracy: 0.75\n",
            "Test F1 Score: 0.6976744186046512\n"
          ]
        }
      ],
      "source": [
        "# Testing the Model on Test Data\n",
        "\n",
        "# Feature Selection\n",
        "\n",
        "X_test_selected = selector.transform(X_test)\n",
        "\n",
        "X_test_selected_scaled = scaler.transform(X_test_selected)\n",
        "\n",
        "# Model Prediction\n",
        "y_test_pred = grid_search.predict(X_test_selected_scaled)\n",
        "\n",
        "test_accuracy = accuracy_score(y_test, y_test_pred)\n",
        "test_f1 = f1_score(y_test, y_test_pred)\n",
        "\n",
        "print(\"Test Accuracy:\", test_accuracy)\n",
        "print(\"Test F1 Score:\", test_f1)\n"
      ]
    },
    {
      "cell_type": "markdown",
      "metadata": {
        "id": "nvN5sA8pfT-7"
      },
      "source": [
        "# SVM Classifier"
      ]
    },
    {
      "cell_type": "code",
      "execution_count": null,
      "metadata": {
        "colab": {
          "background_save": true,
          "base_uri": "https://localhost:8080/"
        },
        "id": "8hp6h8-xfkXp",
        "outputId": "4a44a775-f3b1-49a4-d122-cc2b79800bdd"
      },
      "outputs": [
        {
          "name": "stdout",
          "output_type": "stream",
          "text": [
            "Fitting 5 folds for each of 60 candidates, totalling 300 fits\n",
            "[CV] END C=0.1, gamma=scale, kernel=linear, shrinking=True, tol=0.001; total time=   0.0s\n",
            "[CV] END C=0.1, gamma=scale, kernel=linear, shrinking=True, tol=0.001; total time=   0.0s\n",
            "[CV] END C=0.1, gamma=scale, kernel=linear, shrinking=True, tol=0.0001; total time=   0.0s\n",
            "[CV] END C=0.1, gamma=scale, kernel=linear, shrinking=True, tol=0.0001; total time=   0.0s\n",
            "[CV] END C=0.1, gamma=scale, kernel=linear, shrinking=True, tol=0.001; total time=   0.0s\n",
            "[CV] END C=0.1, gamma=scale, kernel=linear, shrinking=True, tol=0.0001; total time=   0.0s\n",
            "[CV] END C=0.1, gamma=scale, kernel=linear, shrinking=True, tol=0.001; total time=   0.0s\n",
            "[CV] END C=0.1, gamma=scale, kernel=linear, shrinking=True, tol=1e-05; total time=   0.0s\n",
            "[CV] END C=0.1, gamma=scale, kernel=linear, shrinking=True, tol=1e-05; total time=   0.0s\n",
            "[CV] END C=0.1, gamma=scale, kernel=linear, shrinking=True, tol=1e-05; total time=   0.0s\n",
            "[CV] END C=0.1, gamma=scale, kernel=linear, shrinking=True, tol=1e-05; total time=   0.0s\n",
            "[CV] END C=0.1, gamma=scale, kernel=linear, shrinking=True, tol=1e-05; total time=   0.0s\n",
            "[CV] END C=0.1, gamma=scale, kernel=linear, shrinking=True, tol=0.001; total time=   0.0s\n",
            "[CV] END C=0.1, gamma=scale, kernel=linear, shrinking=False, tol=0.001; total time=   0.0s\n",
            "[CV] END C=0.1, gamma=scale, kernel=linear, shrinking=False, tol=0.001; total time=   0.0s\n",
            "[CV] END C=0.1, gamma=scale, kernel=linear, shrinking=False, tol=0.0001; total time=   0.0s\n",
            "[CV] END C=0.1, gamma=scale, kernel=linear, shrinking=False, tol=0.001; total time=   0.0s\n",
            "[CV] END C=0.1, gamma=scale, kernel=linear, shrinking=False, tol=0.001; total time=   0.0s\n",
            "[CV] END C=0.1, gamma=scale, kernel=linear, shrinking=False, tol=0.0001; total time=   0.0s\n",
            "[CV] END C=0.1, gamma=scale, kernel=linear, shrinking=False, tol=0.0001; total time=   0.0s\n",
            "[CV] END C=0.1, gamma=scale, kernel=linear, shrinking=False, tol=1e-05; total time=   0.0s\n",
            "[CV] END C=0.1, gamma=scale, kernel=linear, shrinking=False, tol=0.0001; total time=   0.0s\n",
            "[CV] END C=0.1, gamma=scale, kernel=linear, shrinking=True, tol=0.0001; total time=   0.1s\n",
            "[CV] END C=0.1, gamma=scale, kernel=linear, shrinking=False, tol=1e-05; total time=   0.0s\n",
            "[CV] END C=0.1, gamma=scale, kernel=linear, shrinking=False, tol=1e-05; total time=   0.0s\n",
            "[CV] END C=0.1, gamma=auto, kernel=linear, shrinking=True, tol=0.001; total time=   0.0s\n",
            "[CV] END C=0.1, gamma=scale, kernel=linear, shrinking=False, tol=1e-05; total time=   0.0s\n",
            "[CV] END C=0.1, gamma=auto, kernel=linear, shrinking=True, tol=0.001; total time=   0.0s[CV] END C=0.1, gamma=auto, kernel=linear, shrinking=True, tol=0.001; total time=   0.0s\n",
            "\n",
            "[CV] END C=0.1, gamma=auto, kernel=linear, shrinking=True, tol=0.001; total time=   0.0s\n",
            "[CV] END C=0.1, gamma=scale, kernel=linear, shrinking=True, tol=0.0001; total time=   0.0s\n",
            "[CV] END C=0.1, gamma=scale, kernel=linear, shrinking=False, tol=0.0001; total time=   0.0s\n",
            "[CV] END C=0.1, gamma=auto, kernel=linear, shrinking=True, tol=0.0001; total time=   0.0s\n",
            "[CV] END C=0.1, gamma=scale, kernel=linear, shrinking=False, tol=0.001; total time=   0.0s\n",
            "[CV] END C=0.1, gamma=scale, kernel=linear, shrinking=False, tol=1e-05; total time=   0.0s\n",
            "[CV] END C=0.1, gamma=auto, kernel=linear, shrinking=True, tol=1e-05; total time=   0.0s\n",
            "[CV] END C=0.1, gamma=auto, kernel=linear, shrinking=True, tol=0.0001; total time=   0.0s\n",
            "[CV] END C=0.1, gamma=auto, kernel=linear, shrinking=True, tol=1e-05; total time=   0.0s\n",
            "[CV] END C=0.1, gamma=auto, kernel=linear, shrinking=True, tol=1e-05; total time=   0.0s\n",
            "[CV] END C=0.1, gamma=auto, kernel=linear, shrinking=True, tol=0.0001; total time=   0.0s\n",
            "[CV] END C=0.1, gamma=auto, kernel=linear, shrinking=True, tol=0.0001; total time=   0.0s\n",
            "[CV] END C=0.1, gamma=auto, kernel=linear, shrinking=True, tol=1e-05; total time=   0.0s\n",
            "[CV] END C=0.1, gamma=auto, kernel=linear, shrinking=True, tol=0.001; total time=   0.0s\n",
            "[CV] END C=0.1, gamma=auto, kernel=linear, shrinking=True, tol=0.0001; total time=   0.0s\n",
            "[CV] END C=0.1, gamma=auto, kernel=linear, shrinking=False, tol=0.001; total time=   0.0s\n",
            "[CV] END C=0.1, gamma=auto, kernel=linear, shrinking=False, tol=0.001; total time=   0.0s\n",
            "[CV] END C=0.1, gamma=auto, kernel=linear, shrinking=True, tol=1e-05; total time=   0.0s\n",
            "[CV] END C=0.1, gamma=auto, kernel=linear, shrinking=False, tol=0.001; total time=   0.0s\n",
            "[CV] END C=0.1, gamma=auto, kernel=linear, shrinking=False, tol=0.001; total time=   0.0s\n",
            "[CV] END C=0.1, gamma=auto, kernel=linear, shrinking=False, tol=0.001; total time=   0.0s\n",
            "[CV] END C=0.1, gamma=auto, kernel=linear, shrinking=False, tol=0.0001; total time=   0.0s\n",
            "[CV] END C=0.1, gamma=auto, kernel=linear, shrinking=False, tol=1e-05; total time=   0.0s\n",
            "[CV] END C=0.1, gamma=auto, kernel=linear, shrinking=False, tol=0.0001; total time=   0.0s\n",
            "[CV] END C=1, gamma=scale, kernel=linear, shrinking=True, tol=0.001; total time=   0.0s\n",
            "[CV] END C=0.1, gamma=auto, kernel=linear, shrinking=False, tol=1e-05; total time=   0.0s\n",
            "[CV] END C=1, gamma=scale, kernel=linear, shrinking=True, tol=0.001; total time=   0.0s\n",
            "[CV] END C=0.1, gamma=auto, kernel=linear, shrinking=False, tol=0.0001; total time=   0.0s\n",
            "[CV] END C=1, gamma=scale, kernel=linear, shrinking=True, tol=0.0001; total time=   0.0s\n",
            "[CV] END C=1, gamma=scale, kernel=linear, shrinking=True, tol=0.001; total time=   0.0s\n",
            "[CV] END C=0.1, gamma=auto, kernel=linear, shrinking=False, tol=1e-05; total time=   0.0s\n",
            "[CV] END C=1, gamma=scale, kernel=linear, shrinking=True, tol=1e-05; total time=   0.0s\n",
            "[CV] END C=0.1, gamma=auto, kernel=linear, shrinking=False, tol=0.0001; total time=   0.0s\n",
            "[CV] END C=1, gamma=scale, kernel=linear, shrinking=True, tol=0.001; total time=   0.0s\n",
            "[CV] END C=0.1, gamma=auto, kernel=linear, shrinking=False, tol=1e-05; total time=   0.0s\n",
            "[CV] END C=1, gamma=scale, kernel=linear, shrinking=True, tol=0.0001; total time=   0.0s\n",
            "[CV] END C=1, gamma=scale, kernel=linear, shrinking=False, tol=0.001; total time=   0.0s\n",
            "[CV] END C=0.1, gamma=auto, kernel=linear, shrinking=False, tol=1e-05; total time=   0.0s\n",
            "[CV] END C=1, gamma=scale, kernel=linear, shrinking=True, tol=0.0001; total time=   0.0s\n",
            "[CV] END C=0.1, gamma=auto, kernel=linear, shrinking=False, tol=0.0001; total time=   0.0s\n",
            "[CV] END C=1, gamma=scale, kernel=linear, shrinking=True, tol=1e-05; total time=   0.0s\n",
            "[CV] END C=1, gamma=scale, kernel=linear, shrinking=True, tol=0.0001; total time=   0.0s\n",
            "[CV] END C=1, gamma=scale, kernel=linear, shrinking=False, tol=0.001; total time=   0.0s\n",
            "[CV] END C=1, gamma=scale, kernel=linear, shrinking=True, tol=1e-05; total time=   0.0s\n",
            "[CV] END C=1, gamma=scale, kernel=linear, shrinking=True, tol=1e-05; total time=   0.0s\n",
            "[CV] END C=1, gamma=scale, kernel=linear, shrinking=True, tol=0.001; total time=   0.0s\n",
            "[CV] END C=1, gamma=scale, kernel=linear, shrinking=True, tol=0.0001; total time=   0.0s\n",
            "[CV] END C=1, gamma=scale, kernel=linear, shrinking=False, tol=0.001; total time=   0.0s[CV] END C=1, gamma=scale, kernel=linear, shrinking=True, tol=1e-05; total time=   0.0s\n",
            "\n",
            "[CV] END C=1, gamma=scale, kernel=linear, shrinking=False, tol=0.001; total time=   0.0s\n",
            "[CV] END C=1, gamma=scale, kernel=linear, shrinking=False, tol=0.0001; total time=   0.0s\n",
            "[CV] END C=1, gamma=scale, kernel=linear, shrinking=False, tol=0.0001; total time=   0.0s\n",
            "[CV] END C=1, gamma=scale, kernel=linear, shrinking=False, tol=0.001; total time=   0.0s\n",
            "[CV] END C=1, gamma=auto, kernel=linear, shrinking=True, tol=0.001; total time=   0.0s\n",
            "[CV] END C=1, gamma=scale, kernel=linear, shrinking=False, tol=1e-05; total time=   0.0s\n",
            "[CV] END C=1, gamma=scale, kernel=linear, shrinking=False, tol=0.0001; total time=   0.0s\n",
            "[CV] END C=1, gamma=scale, kernel=linear, shrinking=False, tol=1e-05; total time=   0.0s\n",
            "[CV] END C=1, gamma=scale, kernel=linear, shrinking=False, tol=0.0001; total time=   0.0s\n",
            "[CV] END C=1, gamma=auto, kernel=linear, shrinking=True, tol=0.001; total time=   0.0s\n",
            "[CV] END C=1, gamma=auto, kernel=linear, shrinking=True, tol=0.0001; total time=   0.0s\n",
            "[CV] END C=1, gamma=scale, kernel=linear, shrinking=False, tol=1e-05; total time=   0.0s\n",
            "[CV] END C=1, gamma=scale, kernel=linear, shrinking=False, tol=1e-05; total time=   0.0s\n",
            "[CV] END C=1, gamma=auto, kernel=linear, shrinking=True, tol=1e-05; total time=   0.0s\n",
            "[CV] END C=1, gamma=auto, kernel=linear, shrinking=True, tol=0.001; total time=   0.0s\n",
            "[CV] END C=1, gamma=auto, kernel=linear, shrinking=True, tol=0.001; total time=   0.0s\n",
            "[CV] END C=1, gamma=auto, kernel=linear, shrinking=True, tol=0.0001; total time=   0.0s\n",
            "[CV] END C=1, gamma=scale, kernel=linear, shrinking=False, tol=1e-05; total time=   0.0s\n",
            "[CV] END C=1, gamma=auto, kernel=linear, shrinking=True, tol=1e-05; total time=   0.0s\n",
            "[CV] END C=1, gamma=auto, kernel=linear, shrinking=True, tol=0.0001; total time=   0.0s\n",
            "[CV] END C=1, gamma=scale, kernel=linear, shrinking=False, tol=0.0001; total time=   0.0s\n",
            "[CV] END C=1, gamma=auto, kernel=linear, shrinking=False, tol=0.001; total time=   0.0s\n",
            "[CV] END C=1, gamma=auto, kernel=linear, shrinking=True, tol=1e-05; total time=   0.0s\n",
            "[CV] END C=1, gamma=auto, kernel=linear, shrinking=True, tol=0.0001; total time=   0.0s\n",
            "[CV] END C=1, gamma=auto, kernel=linear, shrinking=True, tol=0.001; total time=   0.0s\n",
            "[CV] END C=1, gamma=auto, kernel=linear, shrinking=False, tol=0.001; total time=   0.0s\n",
            "[CV] END C=1, gamma=auto, kernel=linear, shrinking=False, tol=0.001; total time=   0.0s\n",
            "[CV] END C=1, gamma=auto, kernel=linear, shrinking=True, tol=1e-05; total time=   0.0s\n",
            "[CV] END C=1, gamma=auto, kernel=linear, shrinking=False, tol=0.0001; total time=   0.0s\n",
            "[CV] END C=1, gamma=auto, kernel=linear, shrinking=False, tol=0.0001; total time=   0.0s\n",
            "[CV] END C=10, gamma=scale, kernel=linear, shrinking=True, tol=0.001; total time=   0.0s\n",
            "[CV] END C=1, gamma=auto, kernel=linear, shrinking=False, tol=0.001; total time=   0.0s\n",
            "[CV] END C=10, gamma=scale, kernel=linear, shrinking=True, tol=0.0001; total time=   0.0s\n",
            "[CV] END C=1, gamma=auto, kernel=linear, shrinking=True, tol=0.0001; total time=   0.0s\n",
            "[CV] END C=1, gamma=auto, kernel=linear, shrinking=False, tol=0.001; total time=   0.0s\n",
            "[CV] END C=10, gamma=scale, kernel=linear, shrinking=True, tol=0.0001; total time=   0.0s\n",
            "[CV] END C=1, gamma=auto, kernel=linear, shrinking=True, tol=1e-05; total time=   0.0s\n",
            "[CV] END C=10, gamma=scale, kernel=linear, shrinking=False, tol=0.001; total time=   0.0s\n",
            "[CV] END C=1, gamma=auto, kernel=linear, shrinking=False, tol=0.0001; total time=   0.0s\n",
            "[CV] END C=10, gamma=scale, kernel=linear, shrinking=True, tol=0.001; total time=   0.0s\n",
            "[CV] END C=10, gamma=scale, kernel=linear, shrinking=False, tol=0.001; total time=   0.0s\n",
            "[CV] END C=10, gamma=auto, kernel=linear, shrinking=True, tol=0.001; total time=   0.0s\n",
            "[CV] END C=10, gamma=scale, kernel=linear, shrinking=True, tol=0.001; total time=   0.0s\n",
            "[CV] END C=10, gamma=auto, kernel=linear, shrinking=True, tol=1e-05; total time=   0.0s\n",
            "[CV] END C=10, gamma=auto, kernel=linear, shrinking=False, tol=0.001; total time=   0.0s\n",
            "[CV] END C=1, gamma=auto, kernel=linear, shrinking=False, tol=0.0001; total time=   0.0s\n",
            "[CV] END C=10, gamma=scale, kernel=linear, shrinking=True, tol=0.001; total time=   0.0s\n",
            "[CV] END C=10, gamma=auto, kernel=linear, shrinking=True, tol=0.001; total time=   0.0s\n",
            "[CV] END C=10, gamma=scale, kernel=linear, shrinking=False, tol=0.0001; total time=   0.0s\n",
            "[CV] END C=10, gamma=auto, kernel=linear, shrinking=True, tol=1e-05; total time=   0.0s\n",
            "[CV] END C=10, gamma=scale, kernel=linear, shrinking=False, tol=0.001; total time=   0.0s\n",
            "[CV] END C=10, gamma=auto, kernel=linear, shrinking=False, tol=0.001; total time=   0.0s\n",
            "[CV] END C=1, gamma=auto, kernel=linear, shrinking=False, tol=0.0001; total time=   0.0s\n",
            "[CV] END C=10, gamma=scale, kernel=linear, shrinking=False, tol=1e-05; total time=   0.0s\n",
            "[CV] END C=10, gamma=auto, kernel=linear, shrinking=False, tol=0.0001; total time=   0.0s\n",
            "[CV] END C=10, gamma=auto, kernel=linear, shrinking=True, tol=1e-05; total time=   0.0s\n",
            "[CV] END C=10, gamma=auto, kernel=linear, shrinking=True, tol=1e-05; total time=   0.0s\n",
            "[CV] END C=10, gamma=scale, kernel=linear, shrinking=True, tol=1e-05; total time=   0.1s\n",
            "[CV] END C=1, gamma=auto, kernel=linear, shrinking=False, tol=1e-05; total time=   0.0s\n",
            "[CV] END C=10, gamma=scale, kernel=linear, shrinking=True, tol=0.001; total time=   0.0s\n",
            "[CV] END C=10, gamma=auto, kernel=linear, shrinking=True, tol=1e-05; total time=   0.0s\n",
            "[CV] END C=10, gamma=scale, kernel=linear, shrinking=True, tol=1e-05; total time=   0.0s\n",
            "[CV] END C=10, gamma=scale, kernel=linear, shrinking=False, tol=1e-05; total time=   0.0s\n",
            "[CV] END C=1, gamma=auto, kernel=linear, shrinking=False, tol=1e-05; total time=   0.0s\n",
            "[CV] END C=10, gamma=auto, kernel=linear, shrinking=False, tol=0.0001; total time=   0.0s\n",
            "[CV] END C=10, gamma=scale, kernel=linear, shrinking=False, tol=0.001; total time=   0.0s\n",
            "[CV] END C=10, gamma=scale, kernel=linear, shrinking=True, tol=0.0001; total time=   0.0s\n",
            "[CV] END C=10, gamma=scale, kernel=linear, shrinking=True, tol=1e-05; total time=   0.0s\n",
            "[CV] END C=10, gamma=auto, kernel=linear, shrinking=True, tol=0.001; total time=   0.1s\n",
            "[CV] END C=10, gamma=scale, kernel=linear, shrinking=False, tol=0.0001; total time=   0.0s\n",
            "[CV] END C=10, gamma=scale, kernel=linear, shrinking=False, tol=1e-05; total time=   0.0s\n",
            "[CV] END C=10, gamma=scale, kernel=linear, shrinking=True, tol=0.0001; total time=   0.0s\n",
            "[CV] END C=10, gamma=scale, kernel=linear, shrinking=True, tol=1e-05; total time=   0.0s\n",
            "[CV] END C=10, gamma=auto, kernel=linear, shrinking=True, tol=0.0001; total time=   0.0s\n",
            "[CV] END C=1, gamma=auto, kernel=linear, shrinking=False, tol=1e-05; total time=   0.0s\n",
            "[CV] END C=10, gamma=auto, kernel=linear, shrinking=False, tol=0.0001; total time=   0.0s\n",
            "[CV] END C=10, gamma=scale, kernel=linear, shrinking=False, tol=1e-05; total time=   0.0s\n",
            "[CV] END C=10, gamma=scale, kernel=linear, shrinking=True, tol=1e-05; total time=   0.0s\n",
            "[CV] END C=10, gamma=auto, kernel=linear, shrinking=True, tol=0.0001; total time=   0.0s\n",
            "[CV] END C=10, gamma=scale, kernel=linear, shrinking=False, tol=1e-05; total time=   0.0s\n",
            "[CV] END C=10, gamma=scale, kernel=linear, shrinking=True, tol=0.0001; total time=   0.0s\n",
            "[CV] END C=10, gamma=scale, kernel=linear, shrinking=False, tol=0.0001; total time=   0.0s\n",
            "[CV] END C=1, gamma=auto, kernel=linear, shrinking=False, tol=1e-05; total time=   0.0s\n",
            "[CV] END C=10, gamma=auto, kernel=linear, shrinking=True, tol=0.0001; total time=   0.0s\n",
            "[CV] END C=10, gamma=auto, kernel=linear, shrinking=False, tol=0.0001; total time=   0.0s\n",
            "[CV] END C=1, gamma=auto, kernel=linear, shrinking=False, tol=1e-05; total time=   0.0s\n",
            "[CV] END C=10, gamma=scale, kernel=linear, shrinking=False, tol=0.001; total time=   0.0s\n",
            "[CV] END C=10, gamma=scale, kernel=linear, shrinking=False, tol=0.0001; total time=   0.0s\n",
            "[CV] END C=10, gamma=auto, kernel=linear, shrinking=False, tol=1e-05; total time=   0.0s\n",
            "[CV] END C=10, gamma=auto, kernel=linear, shrinking=False, tol=0.0001; total time=   0.0s\n",
            "[CV] END C=100, gamma=scale, kernel=linear, shrinking=True, tol=0.001; total time=   0.0s\n",
            "[CV] END C=10, gamma=scale, kernel=linear, shrinking=False, tol=0.0001; total time=   0.0s\n",
            "[CV] END C=10, gamma=auto, kernel=linear, shrinking=False, tol=1e-05; total time=   0.0s\n",
            "[CV] END C=10, gamma=auto, kernel=linear, shrinking=False, tol=0.001; total time=   0.1s\n",
            "[CV] END C=10, gamma=auto, kernel=linear, shrinking=False, tol=1e-05; total time=   0.0s\n",
            "[CV] END C=10, gamma=auto, kernel=linear, shrinking=False, tol=0.001; total time=   0.0s\n",
            "[CV] END C=10, gamma=auto, kernel=linear, shrinking=True, tol=0.001; total time=   0.0s\n",
            "[CV] END C=100, gamma=scale, kernel=linear, shrinking=False, tol=0.0001; total time=   0.0s\n",
            "[CV] END C=10, gamma=auto, kernel=linear, shrinking=False, tol=0.001; total time=   0.0s\n",
            "[CV] END C=10, gamma=auto, kernel=linear, shrinking=False, tol=1e-05; total time=   0.0s\n",
            "[CV] END C=100, gamma=scale, kernel=linear, shrinking=True, tol=0.0001; total time=   0.0s\n",
            "[CV] END C=10, gamma=auto, kernel=linear, shrinking=True, tol=0.001; total time=   0.0s\n",
            "[CV] END C=100, gamma=auto, kernel=linear, shrinking=True, tol=0.0001; total time=   0.0s\n",
            "[CV] END C=10, gamma=auto, kernel=linear, shrinking=True, tol=0.0001; total time=   0.0s\n",
            "[CV] END C=100, gamma=auto, kernel=linear, shrinking=True, tol=1e-05; total time=   0.0s\n",
            "[CV] END C=10, gamma=auto, kernel=linear, shrinking=True, tol=0.0001; total time=   0.0s\n",
            "[CV] END C=10, gamma=auto, kernel=linear, shrinking=False, tol=1e-05; total time=   0.0s\n",
            "[CV] END C=100, gamma=scale, kernel=linear, shrinking=False, tol=1e-05; total time=   0.0s\n",
            "[CV] END C=100, gamma=scale, kernel=linear, shrinking=True, tol=0.0001; total time=   0.0s\n",
            "[CV] END C=100, gamma=auto, kernel=linear, shrinking=False, tol=0.001; total time=   0.0s\n",
            "[CV] END C=100, gamma=scale, kernel=linear, shrinking=True, tol=1e-05; total time=   0.1s\n",
            "[CV] END C=100, gamma=scale, kernel=linear, shrinking=True, tol=0.001; total time=   0.0s\n",
            "[CV] END C=100, gamma=scale, kernel=linear, shrinking=False, tol=0.0001; total time=   0.0s\n",
            "[CV] END C=100, gamma=scale, kernel=linear, shrinking=True, tol=0.001; total time=   0.0s\n",
            "[CV] END C=100, gamma=auto, kernel=linear, shrinking=False, tol=0.0001; total time=   0.0s\n",
            "[CV] END C=100, gamma=auto, kernel=linear, shrinking=True, tol=0.0001; total time=   0.0s\n",
            "[CV] END C=100, gamma=scale, kernel=linear, shrinking=True, tol=1e-05; total time=   0.0s\n",
            "[CV] END C=100, gamma=scale, kernel=linear, shrinking=True, tol=0.0001; total time=   0.0s\n",
            "[CV] END C=100, gamma=scale, kernel=linear, shrinking=False, tol=0.0001; total time=   0.0s\n",
            "[CV] END C=100, gamma=scale, kernel=linear, shrinking=False, tol=1e-05; total time=   0.0s\n",
            "[CV] END C=100, gamma=scale, kernel=linear, shrinking=True, tol=0.0001; total time=   0.0s\n",
            "[CV] END C=100, gamma=scale, kernel=linear, shrinking=True, tol=1e-05; total time=   0.0s\n",
            "[CV] END C=100, gamma=auto, kernel=linear, shrinking=True, tol=0.0001; total time=   0.0s\n",
            "[CV] END C=100, gamma=auto, kernel=linear, shrinking=True, tol=0.001; total time=   0.0s\n",
            "[CV] END C=100, gamma=scale, kernel=linear, shrinking=True, tol=0.0001; total time=   0.0s\n",
            "[CV] END C=100, gamma=auto, kernel=linear, shrinking=False, tol=0.001; total time=   0.0s\n",
            "[CV] END C=100, gamma=scale, kernel=linear, shrinking=True, tol=0.001; total time=   0.0s\n",
            "[CV] END C=100, gamma=auto, kernel=linear, shrinking=True, tol=0.001; total time=   0.0s\n",
            "[CV] END C=100, gamma=auto, kernel=linear, shrinking=True, tol=0.0001; total time=   0.0s\n",
            "[CV] END C=100, gamma=scale, kernel=linear, shrinking=False, tol=0.0001; total time=   0.0s\n",
            "[CV] END C=100, gamma=auto, kernel=linear, shrinking=False, tol=0.0001; total time=   0.0s\n",
            "[CV] END C=100, gamma=scale, kernel=linear, shrinking=False, tol=0.001; total time=   0.0s\n",
            "[CV] END C=100, gamma=auto, kernel=linear, shrinking=False, tol=0.001; total time=   0.0s\n",
            "[CV] END C=100, gamma=auto, kernel=linear, shrinking=True, tol=0.001; total time=   0.0s\n",
            "[CV] END C=100, gamma=auto, kernel=linear, shrinking=False, tol=0.0001; total time=   0.0s\n",
            "[CV] END C=100, gamma=auto, kernel=linear, shrinking=True, tol=1e-05; total time=   0.0s\n",
            "[CV] END C=100, gamma=scale, kernel=linear, shrinking=False, tol=0.0001; total time=   0.0s\n",
            "[CV] END C=100, gamma=scale, kernel=linear, shrinking=True, tol=1e-05; total time=   0.0s\n",
            "[CV] END C=100, gamma=scale, kernel=linear, shrinking=False, tol=0.001; total time=   0.0s\n",
            "[CV] END C=100, gamma=scale, kernel=linear, shrinking=True, tol=0.001; total time=   0.0s\n",
            "[CV] END C=100, gamma=auto, kernel=linear, shrinking=True, tol=1e-05; total time=   0.0s\n",
            "[CV] END C=100, gamma=scale, kernel=linear, shrinking=True, tol=1e-05; total time=   0.0s\n",
            "[CV] END C=100, gamma=scale, kernel=linear, shrinking=False, tol=0.001; total time=   0.0s\n",
            "[CV] END C=200, gamma=scale, kernel=linear, shrinking=True, tol=0.001; total time=   0.0s\n",
            "[CV] END C=100, gamma=auto, kernel=linear, shrinking=False, tol=1e-05; total time=   0.0s\n",
            "[CV] END C=100, gamma=auto, kernel=linear, shrinking=False, tol=0.001; total time=   0.0s\n",
            "[CV] END C=100, gamma=scale, kernel=linear, shrinking=False, tol=1e-05; total time=   0.0s\n",
            "[CV] END C=100, gamma=auto, kernel=linear, shrinking=False, tol=0.001; total time=   0.0s[CV] END C=200, gamma=scale, kernel=linear, shrinking=True, tol=0.001; total time=   0.0s\n",
            "\n",
            "[CV] END C=100, gamma=auto, kernel=linear, shrinking=False, tol=1e-05; total time=   0.0s\n",
            "[CV] END C=100, gamma=auto, kernel=linear, shrinking=True, tol=0.001; total time=   0.0s\n",
            "[CV] END C=100, gamma=scale, kernel=linear, shrinking=False, tol=1e-05; total time=   0.0s\n",
            "[CV] END C=200, gamma=scale, kernel=linear, shrinking=True, tol=0.001; total time=   0.0s\n",
            "[CV] END C=100, gamma=auto, kernel=linear, shrinking=True, tol=1e-05; total time=   0.0s\n",
            "[CV] END C=100, gamma=auto, kernel=linear, shrinking=True, tol=0.001; total time=   0.0s\n",
            "[CV] END C=100, gamma=scale, kernel=linear, shrinking=False, tol=0.001; total time=   0.0s\n",
            "[CV] END C=200, gamma=scale, kernel=linear, shrinking=True, tol=0.001; total time=   0.0s\n",
            "[CV] END C=100, gamma=auto, kernel=linear, shrinking=False, tol=1e-05; total time=   0.0s\n",
            "[CV] END C=100, gamma=auto, kernel=linear, shrinking=False, tol=0.0001; total time=   0.0s\n",
            "[CV] END C=200, gamma=scale, kernel=linear, shrinking=True, tol=0.001; total time=   0.0s\n",
            "[CV] END C=100, gamma=auto, kernel=linear, shrinking=True, tol=0.0001; total time=   0.0s\n",
            "[CV] END C=200, gamma=scale, kernel=linear, shrinking=True, tol=0.0001; total time=   0.0s\n",
            "[CV] END C=100, gamma=auto, kernel=linear, shrinking=True, tol=1e-05; total time=   0.0s\n",
            "[CV] END C=100, gamma=auto, kernel=linear, shrinking=False, tol=0.0001; total time=   0.0s\n",
            "[CV] END C=100, gamma=scale, kernel=linear, shrinking=False, tol=0.001; total time=   0.0s\n",
            "[CV] END C=200, gamma=scale, kernel=linear, shrinking=True, tol=0.0001; total time=   0.0s\n",
            "[CV] END C=100, gamma=scale, kernel=linear, shrinking=False, tol=1e-05; total time=   0.0s\n",
            "[CV] END C=200, gamma=scale, kernel=linear, shrinking=True, tol=1e-05; total time=   0.0s\n",
            "[CV] END C=200, gamma=scale, kernel=linear, shrinking=True, tol=1e-05; total time=   0.0s\n",
            "[CV] END C=200, gamma=scale, kernel=linear, shrinking=True, tol=0.0001; total time=   0.0s\n",
            "[CV] END C=100, gamma=auto, kernel=linear, shrinking=False, tol=1e-05; total time=   0.0s\n",
            "[CV] END C=200, gamma=scale, kernel=linear, shrinking=True, tol=0.0001; total time=   0.0s\n",
            "[CV] END C=200, gamma=scale, kernel=linear, shrinking=True, tol=0.0001; total time=   0.0s\n",
            "[CV] END C=200, gamma=scale, kernel=linear, shrinking=True, tol=1e-05; total time=   0.0s\n",
            "[CV] END C=200, gamma=scale, kernel=linear, shrinking=True, tol=1e-05; total time=   0.0s\n",
            "[CV] END C=100, gamma=auto, kernel=linear, shrinking=False, tol=1e-05; total time=   0.0s\n",
            "[CV] END C=200, gamma=scale, kernel=linear, shrinking=False, tol=0.001; total time=   0.0s\n",
            "[CV] END C=200, gamma=scale, kernel=linear, shrinking=True, tol=1e-05; total time=   0.0s\n",
            "[CV] END C=200, gamma=scale, kernel=linear, shrinking=False, tol=0.001; total time=   0.0s\n",
            "[CV] END C=200, gamma=scale, kernel=linear, shrinking=False, tol=0.001; total time=   0.0s\n",
            "[CV] END C=200, gamma=scale, kernel=linear, shrinking=False, tol=0.001; total time=   0.0s\n",
            "[CV] END C=200, gamma=scale, kernel=linear, shrinking=False, tol=1e-05; total time=   0.0s\n",
            "[CV] END C=200, gamma=scale, kernel=linear, shrinking=False, tol=0.0001; total time=   0.0s\n",
            "[CV] END C=200, gamma=scale, kernel=linear, shrinking=False, tol=0.0001; total time=   0.0s\n",
            "[CV] END C=200, gamma=scale, kernel=linear, shrinking=False, tol=0.0001; total time=   0.0s\n",
            "[CV] END C=200, gamma=scale, kernel=linear, shrinking=False, tol=1e-05; total time=   0.0s\n",
            "[CV] END C=200, gamma=auto, kernel=linear, shrinking=True, tol=0.001; total time=   0.0s\n",
            "[CV] END C=200, gamma=scale, kernel=linear, shrinking=False, tol=0.001; total time=   0.0s\n",
            "[CV] END C=200, gamma=scale, kernel=linear, shrinking=False, tol=1e-05; total time=   0.0s\n",
            "[CV] END C=200, gamma=auto, kernel=linear, shrinking=True, tol=0.001; total time=   0.0s\n",
            "[CV] END C=200, gamma=auto, kernel=linear, shrinking=True, tol=0.001; total time=   0.0s\n",
            "[CV] END C=200, gamma=scale, kernel=linear, shrinking=False, tol=0.0001; total time=   0.0s\n",
            "[CV] END C=200, gamma=auto, kernel=linear, shrinking=True, tol=0.001; total time=   0.0s\n",
            "[CV] END C=200, gamma=auto, kernel=linear, shrinking=True, tol=0.0001; total time=   0.0s\n",
            "[CV] END C=200, gamma=auto, kernel=linear, shrinking=True, tol=0.001; total time=   0.0s\n",
            "[CV] END C=200, gamma=auto, kernel=linear, shrinking=True, tol=0.0001; total time=   0.0s\n",
            "[CV] END C=200, gamma=auto, kernel=linear, shrinking=True, tol=0.0001; total time=   0.0s\n",
            "[CV] END C=200, gamma=scale, kernel=linear, shrinking=False, tol=1e-05; total time=   0.0s\n",
            "[CV] END C=200, gamma=auto, kernel=linear, shrinking=True, tol=0.0001; total time=   0.0s\n",
            "[CV] END C=200, gamma=auto, kernel=linear, shrinking=True, tol=1e-05; total time=   0.0s\n",
            "[CV] END C=200, gamma=auto, kernel=linear, shrinking=True, tol=0.0001; total time=   0.0s\n",
            "[CV] END C=200, gamma=auto, kernel=linear, shrinking=True, tol=1e-05; total time=   0.0s\n",
            "[CV] END C=200, gamma=scale, kernel=linear, shrinking=False, tol=0.0001; total time=   0.1s\n",
            "[CV] END C=200, gamma=auto, kernel=linear, shrinking=False, tol=0.001; total time=   0.0s\n",
            "[CV] END C=200, gamma=auto, kernel=linear, shrinking=True, tol=1e-05; total time=   0.0s\n",
            "[CV] END C=200, gamma=scale, kernel=linear, shrinking=False, tol=1e-05; total time=   0.1s\n",
            "[CV] END C=200, gamma=auto, kernel=linear, shrinking=True, tol=1e-05; total time=   0.0s\n",
            "[CV] END C=200, gamma=auto, kernel=linear, shrinking=True, tol=1e-05; total time=   0.0s\n",
            "[CV] END C=200, gamma=auto, kernel=linear, shrinking=False, tol=0.001; total time=   0.0s\n",
            "[CV] END C=200, gamma=auto, kernel=linear, shrinking=False, tol=0.001; total time=   0.0s[CV] END C=200, gamma=auto, kernel=linear, shrinking=False, tol=0.001; total time=   0.0s\n",
            "\n",
            "[CV] END C=200, gamma=auto, kernel=linear, shrinking=False, tol=0.0001; total time=   0.0s\n",
            "[CV] END C=200, gamma=auto, kernel=linear, shrinking=False, tol=0.0001; total time=   0.0s\n",
            "[CV] END C=200, gamma=auto, kernel=linear, shrinking=False, tol=0.0001; total time=   0.0s\n",
            "[CV] END C=200, gamma=auto, kernel=linear, shrinking=False, tol=0.001; total time=   0.0s\n",
            "[CV] END C=200, gamma=auto, kernel=linear, shrinking=False, tol=1e-05; total time=   0.0s\n",
            "[CV] END C=200, gamma=auto, kernel=linear, shrinking=False, tol=1e-05; total time=   0.0s\n",
            "[CV] END C=200, gamma=auto, kernel=linear, shrinking=False, tol=1e-05; total time=   0.0s\n",
            "[CV] END C=200, gamma=auto, kernel=linear, shrinking=False, tol=0.0001; total time=   0.1s\n",
            "[CV] END C=200, gamma=auto, kernel=linear, shrinking=False, tol=1e-05; total time=   0.0s\n",
            "[CV] END C=200, gamma=auto, kernel=linear, shrinking=False, tol=0.0001; total time=   0.1s\n",
            "[CV] END C=200, gamma=auto, kernel=linear, shrinking=False, tol=1e-05; total time=   0.1s\n"
          ]
        }
      ],
      "source": [
        "from sklearn.svm import SVC\n",
        "\n",
        "svc = SVC()  # You can change the kernel to 'poly', 'rbf', etc.\n",
        "param_grid = {\n",
        "    'C': [0.1, 1, 10, 100, 200],\n",
        "    'kernel': ['linear'],\n",
        "    #'degree': [2, 3, 4, 5],  # Only used when kernel is 'poly'\n",
        "    'gamma': ['scale', 'auto'],\n",
        "    'shrinking': [True, False],\n",
        "    'tol': [1e-3, 1e-4, 1e-5]\n",
        "}\n",
        "\n",
        "grid_search = GridSearchCV(svc, param_grid, scoring='f1', cv=5, verbose=2, n_jobs=-1)\n",
        "grid_search.fit(X_train, y_train)\n",
        "\n",
        "selector = SelectFromModel(grid_search.best_estimator_, threshold=-np.inf, max_features=10)\n",
        "selector = selector.fit(X_train, y_train)"
      ]
    },
    {
      "cell_type": "code",
      "execution_count": null,
      "metadata": {
        "id": "Aidw3AfexnV6"
      },
      "outputs": [],
      "source": [
        "X_train_selected = selector.transform(X_train)\n",
        "X_test_selected = selector.transform(X_test)\n",
        "X_val_selected = selector.transform(X_val)"
      ]
    },
    {
      "cell_type": "code",
      "execution_count": null,
      "metadata": {
        "id": "YTy2h65wI6Zb"
      },
      "outputs": [],
      "source": [
        "# Scaling the features in all 3 sets\n",
        "from sklearn.preprocessing import StandardScaler\n",
        "\n",
        "scaler = StandardScaler()\n",
        "X_train_scaled = scaler.fit_transform(X_train_selected)\n",
        "X_val_scaled = scaler.transform(X_val_selected)\n",
        "X_test_scaled = scaler.transform(X_test_selected)"
      ]
    },
    {
      "cell_type": "code",
      "execution_count": null,
      "metadata": {
        "id": "6N7M3kZRfqb9",
        "outputId": "e2ac0357-8215-443d-c426-ab46b2f84221"
      },
      "outputs": [
        {
          "name": "stdout",
          "output_type": "stream",
          "text": [
            "Best hyperparameters:\n",
            " {'C': 100, 'gamma': 'scale', 'kernel': 'linear', 'shrinking': True, 'tol': 0.001}\n",
            "\n",
            "Accuracy: 0.6923076923076923\n",
            "F1 Score: 0.5789473684210527\n"
          ]
        },
        {
          "name": "stderr",
          "output_type": "stream",
          "text": [
            "/Library/Frameworks/Python.framework/Versions/3.11/lib/python3.11/site-packages/sklearn/base.py:464: UserWarning: X does not have valid feature names, but SVC was fitted with feature names\n",
            "  warnings.warn(\n"
          ]
        }
      ],
      "source": [
        "# Testing model on validation set\n",
        "best_svc = grid_search.best_estimator_\n",
        "y_pred = best_svc.predict(X_val_scaled)\n",
        "\n",
        "# Print results\n",
        "print(\"Best hyperparameters:\\n\", grid_search.best_params_)\n",
        "print(\"\\nAccuracy:\", accuracy_score(y_val, y_pred))\n",
        "print(\"F1 Score:\", f1_score(y_val, y_pred))"
      ]
    },
    {
      "cell_type": "code",
      "execution_count": null,
      "metadata": {
        "id": "ss8n7DRbf0DJ",
        "outputId": "eaa8d340-4a99-494b-9f38-46f29fd8d905"
      },
      "outputs": [
        {
          "name": "stdout",
          "output_type": "stream",
          "text": [
            "Best hyperparameters:\n",
            " {'C': 100, 'gamma': 'scale', 'kernel': 'linear', 'shrinking': True, 'tol': 0.001}\n",
            "\n",
            "Accuracy: 0.7692307692307693\n",
            "F1 Score: 0.7142857142857143\n"
          ]
        },
        {
          "name": "stderr",
          "output_type": "stream",
          "text": [
            "/Library/Frameworks/Python.framework/Versions/3.11/lib/python3.11/site-packages/sklearn/base.py:464: UserWarning: X does not have valid feature names, but SVC was fitted with feature names\n",
            "  warnings.warn(\n"
          ]
        }
      ],
      "source": [
        "#Testing model on test set\n",
        "best_svc = grid_search.best_estimator_\n",
        "y_pred = best_svc.predict(X_test_selected)\n",
        "\n",
        "# Print results\n",
        "print(\"Best hyperparameters:\\n\", grid_search.best_params_)\n",
        "print(\"\\nAccuracy:\", accuracy_score(y_test, y_pred))\n",
        "print(\"F1 Score:\", f1_score(y_test, y_pred))"
      ]
    },
    {
      "cell_type": "markdown",
      "metadata": {
        "id": "tUutJejhWcA6"
      },
      "source": [
        "# Gradient Boost Classifier"
      ]
    },
    {
      "cell_type": "code",
      "execution_count": null,
      "metadata": {
        "id": "UhXqeU6QbI3W",
        "outputId": "4ccb8f1f-2e5e-4df6-e91c-08774e2c7aa1"
      },
      "outputs": [
        {
          "name": "stdout",
          "output_type": "stream",
          "text": [
            "Scaled Dataset Using MinMaxScaler\n"
          ]
        },
        {
          "data": {
            "text/html": [
              "<div>\n",
              "<style scoped>\n",
              "    .dataframe tbody tr th:only-of-type {\n",
              "        vertical-align: middle;\n",
              "    }\n",
              "\n",
              "    .dataframe tbody tr th {\n",
              "        vertical-align: top;\n",
              "    }\n",
              "\n",
              "    .dataframe thead th {\n",
              "        text-align: right;\n",
              "    }\n",
              "</style>\n",
              "<table border=\"1\" class=\"dataframe\">\n",
              "  <thead>\n",
              "    <tr style=\"text-align: right;\">\n",
              "      <th></th>\n",
              "      <th>AWL</th>\n",
              "      <th>ASL</th>\n",
              "      <th>NWO</th>\n",
              "      <th>NVB</th>\n",
              "      <th>NAJ</th>\n",
              "      <th>NPV</th>\n",
              "      <th>NST</th>\n",
              "      <th>CDV</th>\n",
              "      <th>NTP</th>\n",
              "      <th>TPR</th>\n",
              "    </tr>\n",
              "  </thead>\n",
              "  <tbody>\n",
              "    <tr>\n",
              "      <th>0</th>\n",
              "      <td>0.582242</td>\n",
              "      <td>0.335260</td>\n",
              "      <td>0.243506</td>\n",
              "      <td>0.24</td>\n",
              "      <td>0.153846</td>\n",
              "      <td>0.0</td>\n",
              "      <td>0.16</td>\n",
              "      <td>0.549459</td>\n",
              "      <td>0.428571</td>\n",
              "      <td>0.156627</td>\n",
              "    </tr>\n",
              "    <tr>\n",
              "      <th>1</th>\n",
              "      <td>0.315203</td>\n",
              "      <td>0.380539</td>\n",
              "      <td>0.327922</td>\n",
              "      <td>0.30</td>\n",
              "      <td>0.205128</td>\n",
              "      <td>0.0</td>\n",
              "      <td>0.20</td>\n",
              "      <td>0.476363</td>\n",
              "      <td>0.000000</td>\n",
              "      <td>0.000000</td>\n",
              "    </tr>\n",
              "    <tr>\n",
              "      <th>2</th>\n",
              "      <td>0.080037</td>\n",
              "      <td>0.326177</td>\n",
              "      <td>0.344156</td>\n",
              "      <td>0.30</td>\n",
              "      <td>0.128205</td>\n",
              "      <td>0.5</td>\n",
              "      <td>0.24</td>\n",
              "      <td>0.343949</td>\n",
              "      <td>0.428571</td>\n",
              "      <td>0.114035</td>\n",
              "    </tr>\n",
              "    <tr>\n",
              "      <th>3</th>\n",
              "      <td>0.457336</td>\n",
              "      <td>0.296243</td>\n",
              "      <td>0.172078</td>\n",
              "      <td>0.18</td>\n",
              "      <td>0.179487</td>\n",
              "      <td>0.0</td>\n",
              "      <td>0.12</td>\n",
              "      <td>0.612822</td>\n",
              "      <td>0.000000</td>\n",
              "      <td>0.000000</td>\n",
              "    </tr>\n",
              "    <tr>\n",
              "      <th>4</th>\n",
              "      <td>0.478012</td>\n",
              "      <td>0.216763</td>\n",
              "      <td>0.217532</td>\n",
              "      <td>0.20</td>\n",
              "      <td>0.230769</td>\n",
              "      <td>0.0</td>\n",
              "      <td>0.20</td>\n",
              "      <td>0.527643</td>\n",
              "      <td>0.142857</td>\n",
              "      <td>0.057778</td>\n",
              "    </tr>\n",
              "  </tbody>\n",
              "</table>\n",
              "</div>"
            ],
            "text/plain": [
              "        AWL       ASL       NWO   NVB       NAJ  NPV   NST       CDV  \\\n",
              "0  0.582242  0.335260  0.243506  0.24  0.153846  0.0  0.16  0.549459   \n",
              "1  0.315203  0.380539  0.327922  0.30  0.205128  0.0  0.20  0.476363   \n",
              "2  0.080037  0.326177  0.344156  0.30  0.128205  0.5  0.24  0.343949   \n",
              "3  0.457336  0.296243  0.172078  0.18  0.179487  0.0  0.12  0.612822   \n",
              "4  0.478012  0.216763  0.217532  0.20  0.230769  0.0  0.20  0.527643   \n",
              "\n",
              "        NTP       TPR  \n",
              "0  0.428571  0.156627  \n",
              "1  0.000000  0.000000  \n",
              "2  0.428571  0.114035  \n",
              "3  0.000000  0.000000  \n",
              "4  0.142857  0.057778  "
            ]
          },
          "execution_count": 57,
          "metadata": {},
          "output_type": "execute_result"
        }
      ],
      "source": [
        "from sklearn.preprocessing import MinMaxScaler\n",
        "scaler = MinMaxScaler()\n",
        "\n",
        "unscaled_df = df[['AWL', 'ASL', 'NWO', 'NVB', 'NAJ', 'NPV', 'NST', 'CDV', 'NTP', 'TPR']]\n",
        "\n",
        "df_scaled = scaler.fit_transform(unscaled_df.to_numpy())\n",
        "df_scaled = pd.DataFrame(df_scaled, columns=['AWL', 'ASL', 'NWO', 'NVB', 'NAJ', 'NPV', 'NST', 'CDV', 'NTP', 'TPR'])\n",
        "\n",
        "print(\"Scaled Dataset Using MinMaxScaler\")\n",
        "df_scaled.head()"
      ]
    },
    {
      "cell_type": "code",
      "execution_count": null,
      "metadata": {
        "id": "xC6Fs21gbVkP",
        "outputId": "be0bd639-9227-4fbb-e071-5a51fdf0cd0a"
      },
      "outputs": [
        {
          "name": "stdout",
          "output_type": "stream",
          "text": [
            "Train set size: 156\n",
            "Validation set size: 52\n",
            "Test set size: 52\n"
          ]
        }
      ],
      "source": [
        "from sklearn.model_selection import train_test_split\n",
        "\n",
        "df_scaled['Real=1/Fake=0'] = df['Real=1/Fake=0'].to_numpy()\n",
        "\n",
        "# 1. Split the data into a combined train + validation set and a test set\n",
        "train_df, test_val_df = train_test_split(df_scaled, test_size=0.40, stratify=df_scaled['Real=1/Fake=0'], random_state=42)\n",
        "\n",
        "# 2. Split the train + validation set into separate train and validation sets\n",
        "test_df, val_df = train_test_split(test_val_df, test_size=0.50, stratify=test_val_df['Real=1/Fake=0'], random_state=42)\n",
        "\n",
        "# Print results\n",
        "print(f\"Train set size: {len(train_df)}\")\n",
        "print(f\"Validation set size: {len(val_df)}\")\n",
        "print(f\"Test set size: {len(test_df)}\")"
      ]
    },
    {
      "cell_type": "code",
      "execution_count": null,
      "metadata": {
        "id": "CQmcxwZfbaTL"
      },
      "outputs": [],
      "source": [
        "train_df = train_df.sample(frac=1, random_state=42).reset_index(drop=True)\n",
        "val_df = val_df.sample(frac=1, random_state=42).reset_index(drop=True)\n",
        "test_df = test_df.sample(frac=1, random_state=42).reset_index(drop=True)"
      ]
    },
    {
      "cell_type": "code",
      "execution_count": null,
      "metadata": {
        "id": "Xhp0rVAsbecj"
      },
      "outputs": [],
      "source": [
        "# Extracting features and labels\n",
        "X_train = train_df[['AWL', 'ASL', 'NWO', 'NVB', 'NAJ', 'NPV', 'NST', 'CDV', 'NTP', 'TPR']]\n",
        "y_train = train_df['Real=1/Fake=0']\n",
        "\n",
        "X_val = val_df[['AWL', 'ASL', 'NWO', 'NVB', 'NAJ', 'NPV', 'NST', 'CDV', 'NTP', 'TPR']]\n",
        "y_val = val_df['Real=1/Fake=0']\n",
        "\n",
        "X_test = test_df[['AWL', 'ASL', 'NWO', 'NVB', 'NAJ', 'NPV', 'NST', 'CDV', 'NTP', 'TPR']]\n",
        "y_test = test_df['Real=1/Fake=0']"
      ]
    },
    {
      "cell_type": "code",
      "execution_count": null,
      "metadata": {
        "id": "oIQEat0DWf1b",
        "outputId": "fe81b13f-8046-42ad-e1fd-529c306cf803"
      },
      "outputs": [
        {
          "data": {
            "text/html": [
              "<style>#sk-container-id-3 {color: black;}#sk-container-id-3 pre{padding: 0;}#sk-container-id-3 div.sk-toggleable {background-color: white;}#sk-container-id-3 label.sk-toggleable__label {cursor: pointer;display: block;width: 100%;margin-bottom: 0;padding: 0.3em;box-sizing: border-box;text-align: center;}#sk-container-id-3 label.sk-toggleable__label-arrow:before {content: \"▸\";float: left;margin-right: 0.25em;color: #696969;}#sk-container-id-3 label.sk-toggleable__label-arrow:hover:before {color: black;}#sk-container-id-3 div.sk-estimator:hover label.sk-toggleable__label-arrow:before {color: black;}#sk-container-id-3 div.sk-toggleable__content {max-height: 0;max-width: 0;overflow: hidden;text-align: left;background-color: #f0f8ff;}#sk-container-id-3 div.sk-toggleable__content pre {margin: 0.2em;color: black;border-radius: 0.25em;background-color: #f0f8ff;}#sk-container-id-3 input.sk-toggleable__control:checked~div.sk-toggleable__content {max-height: 200px;max-width: 100%;overflow: auto;}#sk-container-id-3 input.sk-toggleable__control:checked~label.sk-toggleable__label-arrow:before {content: \"▾\";}#sk-container-id-3 div.sk-estimator input.sk-toggleable__control:checked~label.sk-toggleable__label {background-color: #d4ebff;}#sk-container-id-3 div.sk-label input.sk-toggleable__control:checked~label.sk-toggleable__label {background-color: #d4ebff;}#sk-container-id-3 input.sk-hidden--visually {border: 0;clip: rect(1px 1px 1px 1px);clip: rect(1px, 1px, 1px, 1px);height: 1px;margin: -1px;overflow: hidden;padding: 0;position: absolute;width: 1px;}#sk-container-id-3 div.sk-estimator {font-family: monospace;background-color: #f0f8ff;border: 1px dotted black;border-radius: 0.25em;box-sizing: border-box;margin-bottom: 0.5em;}#sk-container-id-3 div.sk-estimator:hover {background-color: #d4ebff;}#sk-container-id-3 div.sk-parallel-item::after {content: \"\";width: 100%;border-bottom: 1px solid gray;flex-grow: 1;}#sk-container-id-3 div.sk-label:hover label.sk-toggleable__label {background-color: #d4ebff;}#sk-container-id-3 div.sk-serial::before {content: \"\";position: absolute;border-left: 1px solid gray;box-sizing: border-box;top: 0;bottom: 0;left: 50%;z-index: 0;}#sk-container-id-3 div.sk-serial {display: flex;flex-direction: column;align-items: center;background-color: white;padding-right: 0.2em;padding-left: 0.2em;position: relative;}#sk-container-id-3 div.sk-item {position: relative;z-index: 1;}#sk-container-id-3 div.sk-parallel {display: flex;align-items: stretch;justify-content: center;background-color: white;position: relative;}#sk-container-id-3 div.sk-item::before, #sk-container-id-3 div.sk-parallel-item::before {content: \"\";position: absolute;border-left: 1px solid gray;box-sizing: border-box;top: 0;bottom: 0;left: 50%;z-index: -1;}#sk-container-id-3 div.sk-parallel-item {display: flex;flex-direction: column;z-index: 1;position: relative;background-color: white;}#sk-container-id-3 div.sk-parallel-item:first-child::after {align-self: flex-end;width: 50%;}#sk-container-id-3 div.sk-parallel-item:last-child::after {align-self: flex-start;width: 50%;}#sk-container-id-3 div.sk-parallel-item:only-child::after {width: 0;}#sk-container-id-3 div.sk-dashed-wrapped {border: 1px dashed gray;margin: 0 0.4em 0.5em 0.4em;box-sizing: border-box;padding-bottom: 0.4em;background-color: white;}#sk-container-id-3 div.sk-label label {font-family: monospace;font-weight: bold;display: inline-block;line-height: 1.2em;}#sk-container-id-3 div.sk-label-container {text-align: center;}#sk-container-id-3 div.sk-container {/* jupyter's `normalize.less` sets `[hidden] { display: none; }` but bootstrap.min.css set `[hidden] { display: none !important; }` so we also need the `!important` here to be able to override the default hidden behavior on the sphinx rendered scikit-learn.org. See: https://github.com/scikit-learn/scikit-learn/issues/21755 */display: inline-block !important;position: relative;}#sk-container-id-3 div.sk-text-repr-fallback {display: none;}</style><div id=\"sk-container-id-3\" class=\"sk-top-container\"><div class=\"sk-text-repr-fallback\"><pre>GridSearchCV(cv=5, estimator=GradientBoostingClassifier(), n_jobs=-1,\n",
              "             param_grid={&#x27;learning_rate&#x27;: [0.005, 0.01, 0.05],\n",
              "                         &#x27;max_depth&#x27;: [5, 6, 7],\n",
              "                         &#x27;max_features&#x27;: [&#x27;sqrt&#x27;, &#x27;log2&#x27;, None],\n",
              "                         &#x27;n_estimators&#x27;: [100, 200, 300],\n",
              "                         &#x27;subsample&#x27;: [0.2, 0.3, 0.4]},\n",
              "             scoring=&#x27;accuracy&#x27;)</pre><b>In a Jupyter environment, please rerun this cell to show the HTML representation or trust the notebook. <br />On GitHub, the HTML representation is unable to render, please try loading this page with nbviewer.org.</b></div><div class=\"sk-container\" hidden><div class=\"sk-item sk-dashed-wrapped\"><div class=\"sk-label-container\"><div class=\"sk-label sk-toggleable\"><input class=\"sk-toggleable__control sk-hidden--visually\" id=\"sk-estimator-id-7\" type=\"checkbox\" ><label for=\"sk-estimator-id-7\" class=\"sk-toggleable__label sk-toggleable__label-arrow\">GridSearchCV</label><div class=\"sk-toggleable__content\"><pre>GridSearchCV(cv=5, estimator=GradientBoostingClassifier(), n_jobs=-1,\n",
              "             param_grid={&#x27;learning_rate&#x27;: [0.005, 0.01, 0.05],\n",
              "                         &#x27;max_depth&#x27;: [5, 6, 7],\n",
              "                         &#x27;max_features&#x27;: [&#x27;sqrt&#x27;, &#x27;log2&#x27;, None],\n",
              "                         &#x27;n_estimators&#x27;: [100, 200, 300],\n",
              "                         &#x27;subsample&#x27;: [0.2, 0.3, 0.4]},\n",
              "             scoring=&#x27;accuracy&#x27;)</pre></div></div></div><div class=\"sk-parallel\"><div class=\"sk-parallel-item\"><div class=\"sk-item\"><div class=\"sk-label-container\"><div class=\"sk-label sk-toggleable\"><input class=\"sk-toggleable__control sk-hidden--visually\" id=\"sk-estimator-id-8\" type=\"checkbox\" ><label for=\"sk-estimator-id-8\" class=\"sk-toggleable__label sk-toggleable__label-arrow\">estimator: GradientBoostingClassifier</label><div class=\"sk-toggleable__content\"><pre>GradientBoostingClassifier()</pre></div></div></div><div class=\"sk-serial\"><div class=\"sk-item\"><div class=\"sk-estimator sk-toggleable\"><input class=\"sk-toggleable__control sk-hidden--visually\" id=\"sk-estimator-id-9\" type=\"checkbox\" ><label for=\"sk-estimator-id-9\" class=\"sk-toggleable__label sk-toggleable__label-arrow\">GradientBoostingClassifier</label><div class=\"sk-toggleable__content\"><pre>GradientBoostingClassifier()</pre></div></div></div></div></div></div></div></div></div></div>"
            ],
            "text/plain": [
              "GridSearchCV(cv=5, estimator=GradientBoostingClassifier(), n_jobs=-1,\n",
              "             param_grid={'learning_rate': [0.005, 0.01, 0.05],\n",
              "                         'max_depth': [5, 6, 7],\n",
              "                         'max_features': ['sqrt', 'log2', None],\n",
              "                         'n_estimators': [100, 200, 300],\n",
              "                         'subsample': [0.2, 0.3, 0.4]},\n",
              "             scoring='accuracy')"
            ]
          },
          "execution_count": 62,
          "metadata": {},
          "output_type": "execute_result"
        }
      ],
      "source": [
        "import numpy as np\n",
        "from sklearn.ensemble import GradientBoostingClassifier\n",
        "from sklearn.metrics import accuracy_score, f1_score, confusion_matrix\n",
        "from sklearn.model_selection import cross_val_score, GridSearchCV\n",
        "param_grid_gb = {\n",
        "    'n_estimators': [100, 200, 300],\n",
        "    'learning_rate': [0.005,0.01, 0.05],\n",
        "    'max_depth': [ 5, 6, 7],\n",
        "    'subsample': [0.2, 0.3,0.4],\n",
        "    'max_features': ['sqrt', 'log2', None]\n",
        "}\n",
        "\n",
        "grid_gb = GridSearchCV(GradientBoostingClassifier(), param_grid_gb, cv=5, scoring='accuracy', n_jobs=-1)\n",
        "grid_gb.fit(X_train, y_train)"
      ]
    },
    {
      "cell_type": "code",
      "execution_count": null,
      "metadata": {
        "id": "lRqazFywW0DJ"
      },
      "outputs": [],
      "source": [
        "from sklearn.feature_selection import SelectFromModel\n",
        "# Feature Selection\n",
        "selector = SelectFromModel(grid_gb.best_estimator_, threshold=-np.inf, max_features=10)\n",
        "X_train_selected = selector.fit_transform(X_train, y_train)\n",
        "X_val_selected = selector.transform(X_val)\n",
        "X_test_selected = selector.transform(X_test)"
      ]
    },
    {
      "cell_type": "code",
      "execution_count": null,
      "metadata": {
        "id": "IE50VvX4W4rY",
        "outputId": "6bdac8d8-9702-4762-fa17-5b28ee3e0476"
      },
      "outputs": [
        {
          "name": "stdout",
          "output_type": "stream",
          "text": [
            "Validation Accuracy: 0.6346\n",
            "Validation F1 Score: 0.5957\n",
            "Best hyperparameters:\n",
            " {'learning_rate': 0.005, 'max_depth': 6, 'max_features': 'log2', 'n_estimators': 100, 'subsample': 0.3}\n"
          ]
        },
        {
          "name": "stderr",
          "output_type": "stream",
          "text": [
            "/Library/Frameworks/Python.framework/Versions/3.11/lib/python3.11/site-packages/sklearn/base.py:464: UserWarning: X does not have valid feature names, but GradientBoostingClassifier was fitted with feature names\n",
            "  warnings.warn(\n"
          ]
        }
      ],
      "source": [
        "from sklearn.metrics import accuracy_score, f1_score\n",
        "\n",
        "# Using the trained model to predict on validation data\n",
        "y_val_pred = grid_gb.predict(X_val_selected)\n",
        "\n",
        "val_accuracy = accuracy_score(y_val, y_val_pred)\n",
        "val_f1 = f1_score(y_val, y_val_pred)\n",
        "\n",
        "# Print results\n",
        "print(f\"Validation Accuracy: {val_accuracy:.4f}\")\n",
        "print(f\"Validation F1 Score: {val_f1:.4f}\")\n",
        "print(\"Best hyperparameters:\\n\", grid_gb.best_params_)"
      ]
    },
    {
      "cell_type": "code",
      "execution_count": null,
      "metadata": {
        "id": "40cS1HbuW9mV",
        "outputId": "7ddf14fb-5106-4787-ecc0-c7e0e3e65a8d"
      },
      "outputs": [
        {
          "name": "stdout",
          "output_type": "stream",
          "text": [
            "Gradient Boosting Test Accuracy: 0.6923076923076923\n",
            "Gradient Boosting Test Macro F1 Score: 0.6904761904761905\n",
            "Best hyperparameters:\n",
            " {'learning_rate': 0.005, 'max_depth': 6, 'max_features': 'log2', 'n_estimators': 100, 'subsample': 0.3}\n"
          ]
        },
        {
          "name": "stderr",
          "output_type": "stream",
          "text": [
            "/Library/Frameworks/Python.framework/Versions/3.11/lib/python3.11/site-packages/sklearn/base.py:464: UserWarning: X does not have valid feature names, but GradientBoostingClassifier was fitted with feature names\n",
            "  warnings.warn(\n"
          ]
        }
      ],
      "source": [
        "#Testing model on test set\n",
        "test_predictions = grid_gb.predict(X_test_selected)\n",
        "test_accuracy = accuracy_score(y_test, test_predictions)\n",
        "gb_f1 = f1_score(y_test, test_predictions, average='macro')\n",
        "\n",
        "# Print results\n",
        "print(\"Gradient Boosting Test Accuracy:\", test_accuracy)\n",
        "print(\"Gradient Boosting Test Macro F1 Score:\", gb_f1)\n",
        "print(\"Best hyperparameters:\\n\", grid_gb.best_params_)"
      ]
    }
  ],
  "metadata": {
    "colab": {
      "provenance": [],
      "include_colab_link": true
    },
    "kernelspec": {
      "display_name": "Python 3.11.5 64-bit",
      "language": "python",
      "name": "python3"
    },
    "language_info": {
      "codemirror_mode": {
        "name": "ipython",
        "version": 3
      },
      "file_extension": ".py",
      "mimetype": "text/x-python",
      "name": "python",
      "nbconvert_exporter": "python",
      "pygments_lexer": "ipython3",
      "version": "3.11.5"
    },
    "vscode": {
      "interpreter": {
        "hash": "aee8b7b246df8f9039afb4144a1f6fd8d2ca17a180786b69acc140d282b71a49"
      }
    }
  },
  "nbformat": 4,
  "nbformat_minor": 0
}